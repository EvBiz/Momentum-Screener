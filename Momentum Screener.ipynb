{
 "cells": [
  {
   "cell_type": "markdown",
   "id": "86772b6a",
   "metadata": {},
   "source": [
    "# Momentum Screener\n",
    "\n",
    "\n",
    "The gist of this methodology is essentially to:\n",
    "\n",
    "    1.) Penalize for Volatility\n",
    "    2.) Buy non-news driven momentum - FIP helps filter for this\n",
    "\n",
    "\n",
    "Process:\n",
    "\n",
    "1.) Omit top % decile of the most volatile stocks in our universe\n",
    "\n",
    "2.) 1yr/6month Volatiltiy Adjusted Returns: Calculate 1yr and 6month volatiltiy-adjusted returns and sort them highest to lowest - based on a combined 1yr & 6month score\n",
    "\n",
    "3.) FIP (Momentum Quality): Calculate FIP for the top 50% of the stocks from the vol-adjsuted reteurn screen\n",
    "\n",
    "4.) Rank Tickers: Calculate combined score based on the 1yr/6month vol-adjusted score and also the FIP score\n",
    "\n",
    "5.) Purchase the top 40-50 equities from the universe (or a % based)\n",
    "\n",
    "6.) Volatility Targetting: Volatility Targetted position sizing based on desired portfolio vol\n",
    "\n",
    "7.) Rebalance: Rebalance monthly OR rebalance based on EV > Cost of rebalancing"
   ]
  },
  {
   "cell_type": "code",
   "execution_count": 224,
   "id": "e84fe66e",
   "metadata": {},
   "outputs": [],
   "source": [
    "import pandas as pd\n",
    "import numpy as np\n",
    "import matplotlib.pyplot as plt\n",
    "import yfinance as yf\n",
    "from sklearn.linear_model import LinearRegression"
   ]
  },
  {
   "cell_type": "code",
   "execution_count": 226,
   "id": "19ea4528",
   "metadata": {
    "scrolled": true
   },
   "outputs": [
    {
     "data": {
      "text/html": [
       "<div>\n",
       "<style scoped>\n",
       "    .dataframe tbody tr th:only-of-type {\n",
       "        vertical-align: middle;\n",
       "    }\n",
       "\n",
       "    .dataframe tbody tr th {\n",
       "        vertical-align: top;\n",
       "    }\n",
       "\n",
       "    .dataframe thead th {\n",
       "        text-align: right;\n",
       "    }\n",
       "</style>\n",
       "<table border=\"1\" class=\"dataframe\">\n",
       "  <thead>\n",
       "    <tr style=\"text-align: right;\">\n",
       "      <th></th>\n",
       "      <th>ticker</th>\n",
       "    </tr>\n",
       "  </thead>\n",
       "  <tbody>\n",
       "    <tr>\n",
       "      <th>0</th>\n",
       "      <td>AAPL</td>\n",
       "    </tr>\n",
       "    <tr>\n",
       "      <th>1</th>\n",
       "      <td>MSFT</td>\n",
       "    </tr>\n",
       "    <tr>\n",
       "      <th>2</th>\n",
       "      <td>GOOG</td>\n",
       "    </tr>\n",
       "    <tr>\n",
       "      <th>3</th>\n",
       "      <td>AMZN</td>\n",
       "    </tr>\n",
       "    <tr>\n",
       "      <th>4</th>\n",
       "      <td>TSLA</td>\n",
       "    </tr>\n",
       "  </tbody>\n",
       "</table>\n",
       "</div>"
      ],
      "text/plain": [
       "  ticker\n",
       "0   AAPL\n",
       "1   MSFT\n",
       "2   GOOG\n",
       "3   AMZN\n",
       "4   TSLA"
      ]
     },
     "execution_count": 226,
     "metadata": {},
     "output_type": "execute_result"
    }
   ],
   "source": [
    "sp500_tickers = pd.read_csv('sp500_tickers.csv')  # Assuming you have a file of S&P500 tickers\n",
    "sp500_tickers.head()"
   ]
  },
  {
   "cell_type": "markdown",
   "id": "cc9d81c8-b552-49f7-810c-8e705f6a8bb7",
   "metadata": {},
   "source": [
    "# Omit Top Decile of Highest 1yr Volatility"
   ]
  },
  {
   "cell_type": "code",
   "execution_count": 229,
   "id": "721719b5-60d8-4936-9b1d-57bb512e1353",
   "metadata": {},
   "outputs": [],
   "source": [
    "# Create a blank dataframe with the appropriate columns\n",
    "df = pd.DataFrame(columns=['Ticker', 'Historical Volatility'])"
   ]
  },
  {
   "cell_type": "code",
   "execution_count": 231,
   "id": "de02298a-c806-4c82-8fc7-a2d118285d9f",
   "metadata": {
    "scrolled": true
   },
   "outputs": [
    {
     "name": "stderr",
     "output_type": "stream",
     "text": [
      "[*********************100%***********************]  848 of 848 completed\n",
      "\n",
      "9 Failed downloads:\n",
      "['DFS']: YFRateLimitError('Too Many Requests. Rate limited. Try after a while.')\n",
      "['NARI', 'ENV', 'CTLT', 'MRO', 'TPX', 'PDCO', 'RCM', 'AZPN']: YFPricesMissingError('possibly delisted; no price data found  (period=2y) (Yahoo error = \"No data found, symbol may be delisted\")')\n",
      "C:\\Users\\eabiz\\AppData\\Local\\Temp\\ipykernel_6316\\1293045128.py:20: FutureWarning: The default fill_method='pad' in Series.pct_change is deprecated and will be removed in a future version. Either fill in any non-leading NA values prior to calling pct_change or specify 'fill_method=None' to not fill NA values.\n",
      "  ticker_data['Daily Return'] = ticker_data['Close'].pct_change()\n",
      "C:\\Users\\eabiz\\AppData\\Local\\Temp\\ipykernel_6316\\1293045128.py:20: FutureWarning: The default fill_method='pad' in Series.pct_change is deprecated and will be removed in a future version. Either fill in any non-leading NA values prior to calling pct_change or specify 'fill_method=None' to not fill NA values.\n",
      "  ticker_data['Daily Return'] = ticker_data['Close'].pct_change()\n",
      "C:\\Users\\eabiz\\AppData\\Local\\Temp\\ipykernel_6316\\1293045128.py:20: FutureWarning: The default fill_method='pad' in Series.pct_change is deprecated and will be removed in a future version. Either fill in any non-leading NA values prior to calling pct_change or specify 'fill_method=None' to not fill NA values.\n",
      "  ticker_data['Daily Return'] = ticker_data['Close'].pct_change()\n",
      "C:\\Users\\eabiz\\AppData\\Local\\Temp\\ipykernel_6316\\1293045128.py:20: FutureWarning: The default fill_method='pad' in Series.pct_change is deprecated and will be removed in a future version. Either fill in any non-leading NA values prior to calling pct_change or specify 'fill_method=None' to not fill NA values.\n",
      "  ticker_data['Daily Return'] = ticker_data['Close'].pct_change()\n",
      "C:\\Users\\eabiz\\AppData\\Local\\Temp\\ipykernel_6316\\1293045128.py:20: FutureWarning: The default fill_method='pad' in Series.pct_change is deprecated and will be removed in a future version. Either fill in any non-leading NA values prior to calling pct_change or specify 'fill_method=None' to not fill NA values.\n",
      "  ticker_data['Daily Return'] = ticker_data['Close'].pct_change()\n",
      "C:\\Users\\eabiz\\AppData\\Local\\Temp\\ipykernel_6316\\1293045128.py:20: FutureWarning: The default fill_method='pad' in Series.pct_change is deprecated and will be removed in a future version. Either fill in any non-leading NA values prior to calling pct_change or specify 'fill_method=None' to not fill NA values.\n",
      "  ticker_data['Daily Return'] = ticker_data['Close'].pct_change()\n",
      "C:\\Users\\eabiz\\AppData\\Local\\Temp\\ipykernel_6316\\1293045128.py:20: FutureWarning: The default fill_method='pad' in Series.pct_change is deprecated and will be removed in a future version. Either fill in any non-leading NA values prior to calling pct_change or specify 'fill_method=None' to not fill NA values.\n",
      "  ticker_data['Daily Return'] = ticker_data['Close'].pct_change()\n",
      "C:\\Users\\eabiz\\AppData\\Local\\Temp\\ipykernel_6316\\1293045128.py:20: FutureWarning: The default fill_method='pad' in Series.pct_change is deprecated and will be removed in a future version. Either fill in any non-leading NA values prior to calling pct_change or specify 'fill_method=None' to not fill NA values.\n",
      "  ticker_data['Daily Return'] = ticker_data['Close'].pct_change()\n",
      "C:\\Users\\eabiz\\AppData\\Local\\Temp\\ipykernel_6316\\1293045128.py:20: FutureWarning: The default fill_method='pad' in Series.pct_change is deprecated and will be removed in a future version. Either fill in any non-leading NA values prior to calling pct_change or specify 'fill_method=None' to not fill NA values.\n",
      "  ticker_data['Daily Return'] = ticker_data['Close'].pct_change()\n",
      "C:\\Users\\eabiz\\AppData\\Local\\Temp\\ipykernel_6316\\1293045128.py:20: FutureWarning: The default fill_method='pad' in Series.pct_change is deprecated and will be removed in a future version. Either fill in any non-leading NA values prior to calling pct_change or specify 'fill_method=None' to not fill NA values.\n",
      "  ticker_data['Daily Return'] = ticker_data['Close'].pct_change()\n",
      "C:\\Users\\eabiz\\AppData\\Local\\Temp\\ipykernel_6316\\1293045128.py:20: FutureWarning: The default fill_method='pad' in Series.pct_change is deprecated and will be removed in a future version. Either fill in any non-leading NA values prior to calling pct_change or specify 'fill_method=None' to not fill NA values.\n",
      "  ticker_data['Daily Return'] = ticker_data['Close'].pct_change()\n",
      "C:\\Users\\eabiz\\AppData\\Local\\Temp\\ipykernel_6316\\1293045128.py:20: FutureWarning: The default fill_method='pad' in Series.pct_change is deprecated and will be removed in a future version. Either fill in any non-leading NA values prior to calling pct_change or specify 'fill_method=None' to not fill NA values.\n",
      "  ticker_data['Daily Return'] = ticker_data['Close'].pct_change()\n",
      "C:\\Users\\eabiz\\AppData\\Local\\Temp\\ipykernel_6316\\1293045128.py:20: FutureWarning: The default fill_method='pad' in Series.pct_change is deprecated and will be removed in a future version. Either fill in any non-leading NA values prior to calling pct_change or specify 'fill_method=None' to not fill NA values.\n",
      "  ticker_data['Daily Return'] = ticker_data['Close'].pct_change()\n",
      "C:\\Users\\eabiz\\AppData\\Local\\Temp\\ipykernel_6316\\1293045128.py:20: FutureWarning: The default fill_method='pad' in Series.pct_change is deprecated and will be removed in a future version. Either fill in any non-leading NA values prior to calling pct_change or specify 'fill_method=None' to not fill NA values.\n",
      "  ticker_data['Daily Return'] = ticker_data['Close'].pct_change()\n",
      "C:\\Users\\eabiz\\AppData\\Local\\Temp\\ipykernel_6316\\1293045128.py:20: FutureWarning: The default fill_method='pad' in Series.pct_change is deprecated and will be removed in a future version. Either fill in any non-leading NA values prior to calling pct_change or specify 'fill_method=None' to not fill NA values.\n",
      "  ticker_data['Daily Return'] = ticker_data['Close'].pct_change()\n"
     ]
    }
   ],
   "source": [
    "# Collect rows in a list for concatenation\n",
    "rows_to_add = []\n",
    "\n",
    "# Convert tickers column to a list\n",
    "tickers = sp500_tickers['ticker'].tolist()\n",
    "\n",
    "# Batch download all tickers at once\n",
    "data = yf.download(tickers, period='2y', group_by='ticker', threads=True, auto_adjust=False)\n",
    "\n",
    "for ticker in tickers:  # Iterate over the 'ticker' list\n",
    "    try:\n",
    "        # Retrieve individual ticker data from multi-ticker DataFrame\n",
    "        ticker_data = data[ticker].copy()\n",
    "\n",
    "        # Check if data is insufficient\n",
    "        if ticker_data.empty or len(ticker_data) < 252:  \n",
    "            raise ValueError(f\"Insufficient data for ticker: {ticker}\") \n",
    "\n",
    "        # Calculate daily returns\n",
    "        ticker_data['Daily Return'] = ticker_data['Close'].pct_change()\n",
    "\n",
    "        # Rolling window for std dev (daily returns)\n",
    "        window = 252  \n",
    "\n",
    "        # Calculate rolling standard deviation of daily returns\n",
    "        ticker_data['Rolling_Std'] = ticker_data['Daily Return'].rolling(window).std()\n",
    "\n",
    "        # Annualize rolling standard deviation to get historical annual volatility\n",
    "        ticker_data['Rolling_Hist_Vol'] = ticker_data['Rolling_Std'] * np.sqrt(window)\n",
    "\n",
    "        # Retrieve the last value of Vol Adjusted Return\n",
    "        historical_vol = ticker_data['Rolling_Hist_Vol'].iat[-1]\n",
    "\n",
    "        # Add the result to the list\n",
    "        rows_to_add.append({'Ticker': ticker, 'Historical Volatility': historical_vol})\n",
    "\n",
    "    except Exception as e:\n",
    "        print(f\"Error retrieving data for {ticker}: {str(e)}\")\n",
    "\n",
    "# Concatenate all rows into the DataFrame at once\n",
    "df = pd.concat([pd.DataFrame(rows_to_add)], ignore_index=True)"
   ]
  },
  {
   "cell_type": "code",
   "execution_count": 233,
   "id": "35278b70-acd9-4d87-8346-e7506e2de92c",
   "metadata": {},
   "outputs": [
    {
     "data": {
      "text/html": [
       "<div>\n",
       "<style scoped>\n",
       "    .dataframe tbody tr th:only-of-type {\n",
       "        vertical-align: middle;\n",
       "    }\n",
       "\n",
       "    .dataframe tbody tr th {\n",
       "        vertical-align: top;\n",
       "    }\n",
       "\n",
       "    .dataframe thead th {\n",
       "        text-align: right;\n",
       "    }\n",
       "</style>\n",
       "<table border=\"1\" class=\"dataframe\">\n",
       "  <thead>\n",
       "    <tr style=\"text-align: right;\">\n",
       "      <th></th>\n",
       "      <th>Ticker</th>\n",
       "      <th>Historical Volatility</th>\n",
       "    </tr>\n",
       "  </thead>\n",
       "  <tbody>\n",
       "    <tr>\n",
       "      <th>516</th>\n",
       "      <td>WOLF</td>\n",
       "      <td>2.292434</td>\n",
       "    </tr>\n",
       "    <tr>\n",
       "      <th>441</th>\n",
       "      <td>LUMN</td>\n",
       "      <td>1.279683</td>\n",
       "    </tr>\n",
       "    <tr>\n",
       "      <th>753</th>\n",
       "      <td>SMCI</td>\n",
       "      <td>1.137417</td>\n",
       "    </tr>\n",
       "    <tr>\n",
       "      <th>363</th>\n",
       "      <td>SEDG</td>\n",
       "      <td>1.130233</td>\n",
       "    </tr>\n",
       "    <tr>\n",
       "      <th>685</th>\n",
       "      <td>RUN</td>\n",
       "      <td>1.063495</td>\n",
       "    </tr>\n",
       "  </tbody>\n",
       "</table>\n",
       "</div>"
      ],
      "text/plain": [
       "    Ticker  Historical Volatility\n",
       "516   WOLF               2.292434\n",
       "441   LUMN               1.279683\n",
       "753   SMCI               1.137417\n",
       "363   SEDG               1.130233\n",
       "685    RUN               1.063495"
      ]
     },
     "execution_count": 233,
     "metadata": {},
     "output_type": "execute_result"
    }
   ],
   "source": [
    "df = df.sort_values('Historical Volatility', ascending=False) #highest Vol at the top\n",
    "df.head()"
   ]
  },
  {
   "cell_type": "code",
   "execution_count": 235,
   "id": "2583f27f-875f-4ffe-8236-6213c4cc3d08",
   "metadata": {},
   "outputs": [
    {
     "data": {
      "text/html": [
       "<div>\n",
       "<style scoped>\n",
       "    .dataframe tbody tr th:only-of-type {\n",
       "        vertical-align: middle;\n",
       "    }\n",
       "\n",
       "    .dataframe tbody tr th {\n",
       "        vertical-align: top;\n",
       "    }\n",
       "\n",
       "    .dataframe thead th {\n",
       "        text-align: right;\n",
       "    }\n",
       "</style>\n",
       "<table border=\"1\" class=\"dataframe\">\n",
       "  <thead>\n",
       "    <tr style=\"text-align: right;\">\n",
       "      <th></th>\n",
       "      <th>Ticker</th>\n",
       "      <th>Historical Volatility</th>\n",
       "    </tr>\n",
       "  </thead>\n",
       "  <tbody>\n",
       "    <tr>\n",
       "      <th>682</th>\n",
       "      <td>FLR</td>\n",
       "      <td>0.540534</td>\n",
       "    </tr>\n",
       "    <tr>\n",
       "      <th>210</th>\n",
       "      <td>ANET</td>\n",
       "      <td>0.540177</td>\n",
       "    </tr>\n",
       "    <tr>\n",
       "      <th>453</th>\n",
       "      <td>NRG</td>\n",
       "      <td>0.540112</td>\n",
       "    </tr>\n",
       "    <tr>\n",
       "      <th>627</th>\n",
       "      <td>PII</td>\n",
       "      <td>0.539353</td>\n",
       "    </tr>\n",
       "    <tr>\n",
       "      <th>147</th>\n",
       "      <td>CNC</td>\n",
       "      <td>0.538809</td>\n",
       "    </tr>\n",
       "  </tbody>\n",
       "</table>\n",
       "</div>"
      ],
      "text/plain": [
       "    Ticker  Historical Volatility\n",
       "682    FLR               0.540534\n",
       "210   ANET               0.540177\n",
       "453    NRG               0.540112\n",
       "627    PII               0.539353\n",
       "147    CNC               0.538809"
      ]
     },
     "execution_count": 235,
     "metadata": {},
     "output_type": "execute_result"
    }
   ],
   "source": [
    "df = df.sort_values('Historical Volatility', ascending=False) #highest Vol at the top\n",
    "\n",
    "# Determine the 90th percentile threshold (top 10% cutoff)\n",
    "vol_threshold = df['Historical Volatility'].quantile(0.90)\n",
    "\n",
    "# Drop tickers in the top decile\n",
    "df = df[df['Historical Volatility'] <= vol_threshold]\n",
    "\n",
    "df.head()"
   ]
  },
  {
   "cell_type": "code",
   "execution_count": 237,
   "id": "0a637071-00cf-4f65-9800-ceb263f1bb78",
   "metadata": {},
   "outputs": [
    {
     "data": {
      "text/html": [
       "<div>\n",
       "<style scoped>\n",
       "    .dataframe tbody tr th:only-of-type {\n",
       "        vertical-align: middle;\n",
       "    }\n",
       "\n",
       "    .dataframe tbody tr th {\n",
       "        vertical-align: top;\n",
       "    }\n",
       "\n",
       "    .dataframe thead th {\n",
       "        text-align: right;\n",
       "    }\n",
       "</style>\n",
       "<table border=\"1\" class=\"dataframe\">\n",
       "  <thead>\n",
       "    <tr style=\"text-align: right;\">\n",
       "      <th></th>\n",
       "      <th>ticker</th>\n",
       "    </tr>\n",
       "  </thead>\n",
       "  <tbody>\n",
       "    <tr>\n",
       "      <th>682</th>\n",
       "      <td>FLR</td>\n",
       "    </tr>\n",
       "    <tr>\n",
       "      <th>210</th>\n",
       "      <td>ANET</td>\n",
       "    </tr>\n",
       "    <tr>\n",
       "      <th>453</th>\n",
       "      <td>NRG</td>\n",
       "    </tr>\n",
       "    <tr>\n",
       "      <th>627</th>\n",
       "      <td>PII</td>\n",
       "    </tr>\n",
       "    <tr>\n",
       "      <th>147</th>\n",
       "      <td>CNC</td>\n",
       "    </tr>\n",
       "  </tbody>\n",
       "</table>\n",
       "</div>"
      ],
      "text/plain": [
       "    ticker\n",
       "682    FLR\n",
       "210   ANET\n",
       "453    NRG\n",
       "627    PII\n",
       "147    CNC"
      ]
     },
     "execution_count": 237,
     "metadata": {},
     "output_type": "execute_result"
    }
   ],
   "source": [
    "sp500_tickers = df # rename dataframe to sp500 tickers for the loops\n",
    "\n",
    "sp500_tickers.drop(columns=['Historical Volatility'],inplace=True)\n",
    "sp500_tickers.rename(columns={'Ticker' : 'ticker'},inplace=True)\n",
    "sp500_tickers.head()"
   ]
  },
  {
   "cell_type": "markdown",
   "id": "5fe60873",
   "metadata": {},
   "source": [
    "# Volatility Adjusted Returns"
   ]
  },
  {
   "cell_type": "markdown",
   "id": "75ce0240-d6f4-4a39-9aa8-b8e77a3dd45c",
   "metadata": {},
   "source": [
    "#### 1.) 1 Year Volatility-Adjusted Returns"
   ]
  },
  {
   "cell_type": "code",
   "execution_count": 241,
   "id": "85bdcf95",
   "metadata": {},
   "outputs": [],
   "source": [
    "# Create a blank dataframe with the appropriate columns\n",
    "df = pd.DataFrame(columns=['Ticker', 'Vol Adjusted Return'])"
   ]
  },
  {
   "cell_type": "code",
   "execution_count": 243,
   "id": "ccb67ed5-2e98-4d20-8b2d-4984a5ba1364",
   "metadata": {
    "scrolled": true
   },
   "outputs": [
    {
     "name": "stderr",
     "output_type": "stream",
     "text": [
      "[*********************100%***********************]  756 of 756 completed\n",
      "C:\\Users\\eabiz\\AppData\\Local\\Temp\\ipykernel_6316\\2641018204.py:20: FutureWarning: The default fill_method='pad' in Series.pct_change is deprecated and will be removed in a future version. Either fill in any non-leading NA values prior to calling pct_change or specify 'fill_method=None' to not fill NA values.\n",
      "  ticker_data['Daily Return'] = ticker_data['Close'].pct_change()\n",
      "C:\\Users\\eabiz\\AppData\\Local\\Temp\\ipykernel_6316\\2641018204.py:20: FutureWarning: The default fill_method='pad' in Series.pct_change is deprecated and will be removed in a future version. Either fill in any non-leading NA values prior to calling pct_change or specify 'fill_method=None' to not fill NA values.\n",
      "  ticker_data['Daily Return'] = ticker_data['Close'].pct_change()\n",
      "C:\\Users\\eabiz\\AppData\\Local\\Temp\\ipykernel_6316\\2641018204.py:20: FutureWarning: The default fill_method='pad' in Series.pct_change is deprecated and will be removed in a future version. Either fill in any non-leading NA values prior to calling pct_change or specify 'fill_method=None' to not fill NA values.\n",
      "  ticker_data['Daily Return'] = ticker_data['Close'].pct_change()\n",
      "C:\\Users\\eabiz\\AppData\\Local\\Temp\\ipykernel_6316\\2641018204.py:20: FutureWarning: The default fill_method='pad' in Series.pct_change is deprecated and will be removed in a future version. Either fill in any non-leading NA values prior to calling pct_change or specify 'fill_method=None' to not fill NA values.\n",
      "  ticker_data['Daily Return'] = ticker_data['Close'].pct_change()\n",
      "C:\\Users\\eabiz\\AppData\\Local\\Temp\\ipykernel_6316\\2641018204.py:20: FutureWarning: The default fill_method='pad' in Series.pct_change is deprecated and will be removed in a future version. Either fill in any non-leading NA values prior to calling pct_change or specify 'fill_method=None' to not fill NA values.\n",
      "  ticker_data['Daily Return'] = ticker_data['Close'].pct_change()\n",
      "C:\\Users\\eabiz\\AppData\\Local\\Temp\\ipykernel_6316\\2641018204.py:20: FutureWarning: The default fill_method='pad' in Series.pct_change is deprecated and will be removed in a future version. Either fill in any non-leading NA values prior to calling pct_change or specify 'fill_method=None' to not fill NA values.\n",
      "  ticker_data['Daily Return'] = ticker_data['Close'].pct_change()\n"
     ]
    }
   ],
   "source": [
    "# Collect rows in a list for concatenation\n",
    "rows_to_add = []\n",
    "\n",
    "# Convert tickers column to a list\n",
    "tickers = sp500_tickers['ticker'].tolist()\n",
    "\n",
    "# Batch download 2 years of data for all tickers at once\n",
    "data = yf.download(tickers, period='2y', group_by='ticker', threads=True, auto_adjust=False)\n",
    "\n",
    "for ticker in tickers:  # Iterate over the 'ticker' column in sp500_tickers dataframe\n",
    "    try:\n",
    "        # Retrieve individual ticker data from multi-ticker DataFrame\n",
    "        ticker_data = data[ticker].copy()\n",
    "\n",
    "        # Check if data is insufficient\n",
    "        if ticker_data.empty or len(ticker_data) < 252:  \n",
    "            raise ValueError(f\"Insufficient data for ticker: {ticker}\")\n",
    "\n",
    "        # Calculate daily returns\n",
    "        ticker_data['Daily Return'] = ticker_data['Close'].pct_change()\n",
    "\n",
    "        # Calculate percent return over a 1-year period (252 trading days)\n",
    "        ticker_data['Percent Return'] = ((ticker_data['Close'] - ticker_data['Close'].shift(252)) / ticker_data['Close'].shift(252)) * 100  \n",
    "\n",
    "        # Rolling window for std dev (daily returns)\n",
    "        window = 252  \n",
    "\n",
    "        # Calculate rolling standard deviation of daily returns\n",
    "        ticker_data['Rolling_Std'] = ticker_data['Daily Return'].rolling(window).std()\n",
    "\n",
    "        # Annualize rolling standard deviation to get historical annual volatility\n",
    "        ticker_data['Rolling_Hist_Vol'] = ticker_data['Rolling_Std'] * np.sqrt(window)\n",
    "\n",
    "        # Calculate volatility-adjusted returns\n",
    "        ticker_data['Vol_Adjusted_Return'] = ((ticker_data['Percent Return'])/100) / (ticker_data['Rolling_Hist_Vol'])\n",
    "\n",
    "        # Retrieve the last value of Vol Adjusted Return\n",
    "        vol_adjusted_return = ticker_data['Vol_Adjusted_Return'].iat[-1]\n",
    "\n",
    "        # Add the result to the list\n",
    "        rows_to_add.append({'Ticker': ticker, 'Vol Adjusted Return': vol_adjusted_return})\n",
    "\n",
    "    except Exception as e:\n",
    "        print(f\"Error retrieving data for {ticker}: {str(e)}\")\n",
    "\n",
    "# Concatenate all rows into the DataFrame at once\n",
    "df = pd.concat([pd.DataFrame(rows_to_add)], ignore_index=True)"
   ]
  },
  {
   "cell_type": "code",
   "execution_count": 245,
   "id": "b5bf77c2",
   "metadata": {},
   "outputs": [],
   "source": [
    "df = df.sort_values('Vol Adjusted Return', ascending=False)\n",
    "# Create a csv file with the results\n",
    "df.to_csv(\"Momentum Screen Results.csv\", index=False) # set index = to false, or else it'll create a column with index"
   ]
  },
  {
   "cell_type": "code",
   "execution_count": 247,
   "id": "0c92a3aa",
   "metadata": {},
   "outputs": [
    {
     "data": {
      "text/html": [
       "<div>\n",
       "<style scoped>\n",
       "    .dataframe tbody tr th:only-of-type {\n",
       "        vertical-align: middle;\n",
       "    }\n",
       "\n",
       "    .dataframe tbody tr th {\n",
       "        vertical-align: top;\n",
       "    }\n",
       "\n",
       "    .dataframe thead th {\n",
       "        text-align: right;\n",
       "    }\n",
       "</style>\n",
       "<table border=\"1\" class=\"dataframe\">\n",
       "  <thead>\n",
       "    <tr style=\"text-align: right;\">\n",
       "      <th></th>\n",
       "      <th>Ticker</th>\n",
       "      <th>Vol Adjusted Return</th>\n",
       "      <th>Index1</th>\n",
       "    </tr>\n",
       "  </thead>\n",
       "  <tbody>\n",
       "    <tr>\n",
       "      <th>0</th>\n",
       "      <td>TPR</td>\n",
       "      <td>3.974857</td>\n",
       "      <td>0</td>\n",
       "    </tr>\n",
       "    <tr>\n",
       "      <th>1</th>\n",
       "      <td>HWM</td>\n",
       "      <td>2.641294</td>\n",
       "      <td>1</td>\n",
       "    </tr>\n",
       "    <tr>\n",
       "      <th>2</th>\n",
       "      <td>NFLX</td>\n",
       "      <td>2.601855</td>\n",
       "      <td>2</td>\n",
       "    </tr>\n",
       "    <tr>\n",
       "      <th>3</th>\n",
       "      <td>IBKR</td>\n",
       "      <td>2.582223</td>\n",
       "      <td>3</td>\n",
       "    </tr>\n",
       "    <tr>\n",
       "      <th>4</th>\n",
       "      <td>JBL</td>\n",
       "      <td>2.521692</td>\n",
       "      <td>4</td>\n",
       "    </tr>\n",
       "  </tbody>\n",
       "</table>\n",
       "</div>"
      ],
      "text/plain": [
       "  Ticker  Vol Adjusted Return  Index1\n",
       "0    TPR             3.974857       0\n",
       "1    HWM             2.641294       1\n",
       "2   NFLX             2.601855       2\n",
       "3   IBKR             2.582223       3\n",
       "4    JBL             2.521692       4"
      ]
     },
     "execution_count": 247,
     "metadata": {},
     "output_type": "execute_result"
    }
   ],
   "source": [
    "# read the csv file - momentum screen results\n",
    "df1 = pd.read_csv(\"Momentum Screen Results.csv\")\n",
    "\n",
    "df1['Index1'] = df1.index # create column of the index position\n",
    "df1.head()"
   ]
  },
  {
   "cell_type": "markdown",
   "id": "cba01814-9ee8-415e-a9a6-1cb0c8ffb178",
   "metadata": {},
   "source": [
    "### 2.) 6 Month Volatility Adjusted Returns"
   ]
  },
  {
   "cell_type": "code",
   "execution_count": 250,
   "id": "84d8cc0f-ab42-4e8d-b912-9037cd58ec20",
   "metadata": {},
   "outputs": [],
   "source": [
    "# Create a blank dataframe with the appropriate columns\n",
    "df = pd.DataFrame(columns=['Ticker', 'Vol Adjusted Return'])"
   ]
  },
  {
   "cell_type": "code",
   "execution_count": 252,
   "id": "63f716d8-9aba-40c9-92de-27e8ddec1cac",
   "metadata": {
    "scrolled": true
   },
   "outputs": [
    {
     "name": "stderr",
     "output_type": "stream",
     "text": [
      "[*********************100%***********************]  756 of 756 completed\n",
      "C:\\Users\\eabiz\\AppData\\Local\\Temp\\ipykernel_6316\\4286303003.py:20: FutureWarning: The default fill_method='pad' in Series.pct_change is deprecated and will be removed in a future version. Either fill in any non-leading NA values prior to calling pct_change or specify 'fill_method=None' to not fill NA values.\n",
      "  ticker_data['Daily Return'] = ticker_data['Close'].pct_change()\n",
      "C:\\Users\\eabiz\\AppData\\Local\\Temp\\ipykernel_6316\\4286303003.py:20: FutureWarning: The default fill_method='pad' in Series.pct_change is deprecated and will be removed in a future version. Either fill in any non-leading NA values prior to calling pct_change or specify 'fill_method=None' to not fill NA values.\n",
      "  ticker_data['Daily Return'] = ticker_data['Close'].pct_change()\n",
      "C:\\Users\\eabiz\\AppData\\Local\\Temp\\ipykernel_6316\\4286303003.py:20: FutureWarning: The default fill_method='pad' in Series.pct_change is deprecated and will be removed in a future version. Either fill in any non-leading NA values prior to calling pct_change or specify 'fill_method=None' to not fill NA values.\n",
      "  ticker_data['Daily Return'] = ticker_data['Close'].pct_change()\n",
      "C:\\Users\\eabiz\\AppData\\Local\\Temp\\ipykernel_6316\\4286303003.py:20: FutureWarning: The default fill_method='pad' in Series.pct_change is deprecated and will be removed in a future version. Either fill in any non-leading NA values prior to calling pct_change or specify 'fill_method=None' to not fill NA values.\n",
      "  ticker_data['Daily Return'] = ticker_data['Close'].pct_change()\n",
      "C:\\Users\\eabiz\\AppData\\Local\\Temp\\ipykernel_6316\\4286303003.py:20: FutureWarning: The default fill_method='pad' in Series.pct_change is deprecated and will be removed in a future version. Either fill in any non-leading NA values prior to calling pct_change or specify 'fill_method=None' to not fill NA values.\n",
      "  ticker_data['Daily Return'] = ticker_data['Close'].pct_change()\n",
      "C:\\Users\\eabiz\\AppData\\Local\\Temp\\ipykernel_6316\\4286303003.py:20: FutureWarning: The default fill_method='pad' in Series.pct_change is deprecated and will be removed in a future version. Either fill in any non-leading NA values prior to calling pct_change or specify 'fill_method=None' to not fill NA values.\n",
      "  ticker_data['Daily Return'] = ticker_data['Close'].pct_change()\n"
     ]
    }
   ],
   "source": [
    "# Collect rows in a list for concatenation\n",
    "rows_to_add = []\n",
    "\n",
    "# Convert tickers column to a list\n",
    "tickers = sp500_tickers['ticker'].tolist()\n",
    "\n",
    "# Batch download 1 year of data for all tickers at once\n",
    "data = yf.download(tickers, period='1y', group_by='ticker', threads=True, auto_adjust=False)\n",
    "\n",
    "for ticker in tickers:  # Iterate over the 'ticker' column in sp500_tickers dataframe\n",
    "    try:\n",
    "        # Retrieve individual ticker data from multi-ticker DataFrame\n",
    "        ticker_data = data[ticker].copy()\n",
    "        \n",
    "        # Check if data is insufficient\n",
    "        if ticker_data.empty or len(ticker_data) < 126:  \n",
    "            raise ValueError(f\"Insufficient data for ticker: {ticker}\")\n",
    "\n",
    "        # Calculate daily returns\n",
    "        ticker_data['Daily Return'] = ticker_data['Close'].pct_change()\n",
    "\n",
    "        # Calculate percent return over a 1-year period (252 trading days)\n",
    "        ticker_data['Percent Return'] = ((ticker_data['Close'] - ticker_data['Close'].shift(126)) / ticker_data['Close'].shift(126)) * 100  \n",
    "\n",
    "        # Rolling window for std dev (daily returns)\n",
    "        window = 126  \n",
    "\n",
    "        # Calculate rolling standard deviation of daily returns\n",
    "        ticker_data['Rolling_Std'] = ticker_data['Daily Return'].rolling(window).std()\n",
    "\n",
    "        # Annualize rolling standard deviation to get historical annual volatility\n",
    "        ticker_data['Rolling_Hist_Vol'] = ticker_data['Rolling_Std'] * np.sqrt(252)\n",
    "\n",
    "        # Calculate volatility-adjusted returns\n",
    "        ticker_data['Vol_Adjusted_Return'] = ((ticker_data['Percent Return'])/100) / (ticker_data['Rolling_Hist_Vol'])\n",
    "\n",
    "        # Retrieve the last value of Vol Adjusted Return\n",
    "        vol_adjusted_return = ticker_data['Vol_Adjusted_Return'].iat[-1]\n",
    "\n",
    "        # Add the result to the list\n",
    "        rows_to_add.append({'Ticker': ticker, 'Vol Adjusted Return': vol_adjusted_return})\n",
    "\n",
    "    except Exception as e:\n",
    "        print(f\"Error retrieving data for {ticker}: {str(e)}\")\n",
    "\n",
    "# Concatenate all rows into the DataFrame at once\n",
    "df = pd.concat([pd.DataFrame(rows_to_add)], ignore_index=True)\n"
   ]
  },
  {
   "cell_type": "code",
   "execution_count": 254,
   "id": "43123288-e83c-47c5-bdb3-ed0fee32d129",
   "metadata": {},
   "outputs": [],
   "source": [
    "df = df.sort_values('Vol Adjusted Return', ascending=False)\n",
    "# Create a csv file with the results\n",
    "df.to_csv(\"6 Month Momentum Screen Results.csv\", index=False) # set index = to false, or else it'll create a column with index"
   ]
  },
  {
   "cell_type": "code",
   "execution_count": 256,
   "id": "d06a2740-c9da-46b5-8a7f-f852b1e4820b",
   "metadata": {},
   "outputs": [
    {
     "data": {
      "text/html": [
       "<div>\n",
       "<style scoped>\n",
       "    .dataframe tbody tr th:only-of-type {\n",
       "        vertical-align: middle;\n",
       "    }\n",
       "\n",
       "    .dataframe tbody tr th {\n",
       "        vertical-align: top;\n",
       "    }\n",
       "\n",
       "    .dataframe thead th {\n",
       "        text-align: right;\n",
       "    }\n",
       "</style>\n",
       "<table border=\"1\" class=\"dataframe\">\n",
       "  <thead>\n",
       "    <tr style=\"text-align: right;\">\n",
       "      <th></th>\n",
       "      <th>Ticker</th>\n",
       "      <th>Vol Adjusted Return</th>\n",
       "      <th>Index2</th>\n",
       "    </tr>\n",
       "  </thead>\n",
       "  <tbody>\n",
       "    <tr>\n",
       "      <th>0</th>\n",
       "      <td>NEU</td>\n",
       "      <td>1.561230</td>\n",
       "      <td>0</td>\n",
       "    </tr>\n",
       "    <tr>\n",
       "      <th>1</th>\n",
       "      <td>ORA</td>\n",
       "      <td>1.556537</td>\n",
       "      <td>1</td>\n",
       "    </tr>\n",
       "    <tr>\n",
       "      <th>2</th>\n",
       "      <td>SXT</td>\n",
       "      <td>1.475955</td>\n",
       "      <td>2</td>\n",
       "    </tr>\n",
       "    <tr>\n",
       "      <th>3</th>\n",
       "      <td>LHX</td>\n",
       "      <td>1.413325</td>\n",
       "      <td>3</td>\n",
       "    </tr>\n",
       "    <tr>\n",
       "      <th>4</th>\n",
       "      <td>CW</td>\n",
       "      <td>1.298241</td>\n",
       "      <td>4</td>\n",
       "    </tr>\n",
       "  </tbody>\n",
       "</table>\n",
       "</div>"
      ],
      "text/plain": [
       "  Ticker  Vol Adjusted Return  Index2\n",
       "0    NEU             1.561230       0\n",
       "1    ORA             1.556537       1\n",
       "2    SXT             1.475955       2\n",
       "3    LHX             1.413325       3\n",
       "4     CW             1.298241       4"
      ]
     },
     "execution_count": 256,
     "metadata": {},
     "output_type": "execute_result"
    }
   ],
   "source": [
    "df2 = pd.read_csv(\"6 Month Momentum Screen Results.csv\")\n",
    "df2['Index2'] = df2.index # create column of the index position\n",
    "df2.head()"
   ]
  },
  {
   "cell_type": "markdown",
   "id": "46124942-4a4b-4c6a-90f3-80af3c534a0f",
   "metadata": {},
   "source": [
    "### Merge Both Dataframes - 1yr and 6M vol volatility adjusted returns"
   ]
  },
  {
   "cell_type": "code",
   "execution_count": 259,
   "id": "e1775301-68e1-41f8-ade1-884e7548eafd",
   "metadata": {},
   "outputs": [
    {
     "data": {
      "text/html": [
       "<div>\n",
       "<style scoped>\n",
       "    .dataframe tbody tr th:only-of-type {\n",
       "        vertical-align: middle;\n",
       "    }\n",
       "\n",
       "    .dataframe tbody tr th {\n",
       "        vertical-align: top;\n",
       "    }\n",
       "\n",
       "    .dataframe thead th {\n",
       "        text-align: right;\n",
       "    }\n",
       "</style>\n",
       "<table border=\"1\" class=\"dataframe\">\n",
       "  <thead>\n",
       "    <tr style=\"text-align: right;\">\n",
       "      <th></th>\n",
       "      <th>Ticker</th>\n",
       "      <th>Vol Adjusted Return_x</th>\n",
       "      <th>Index1</th>\n",
       "      <th>Vol Adjusted Return_y</th>\n",
       "      <th>Index2</th>\n",
       "    </tr>\n",
       "  </thead>\n",
       "  <tbody>\n",
       "    <tr>\n",
       "      <th>0</th>\n",
       "      <td>TPR</td>\n",
       "      <td>3.974857</td>\n",
       "      <td>0</td>\n",
       "      <td>0.872073</td>\n",
       "      <td>33</td>\n",
       "    </tr>\n",
       "    <tr>\n",
       "      <th>1</th>\n",
       "      <td>HWM</td>\n",
       "      <td>2.641294</td>\n",
       "      <td>1</td>\n",
       "      <td>1.093332</td>\n",
       "      <td>11</td>\n",
       "    </tr>\n",
       "    <tr>\n",
       "      <th>2</th>\n",
       "      <td>NFLX</td>\n",
       "      <td>2.601855</td>\n",
       "      <td>2</td>\n",
       "      <td>0.544475</td>\n",
       "      <td>91</td>\n",
       "    </tr>\n",
       "    <tr>\n",
       "      <th>3</th>\n",
       "      <td>IBKR</td>\n",
       "      <td>2.582223</td>\n",
       "      <td>3</td>\n",
       "      <td>0.309452</td>\n",
       "      <td>152</td>\n",
       "    </tr>\n",
       "    <tr>\n",
       "      <th>4</th>\n",
       "      <td>JBL</td>\n",
       "      <td>2.521692</td>\n",
       "      <td>4</td>\n",
       "      <td>0.804621</td>\n",
       "      <td>42</td>\n",
       "    </tr>\n",
       "  </tbody>\n",
       "</table>\n",
       "</div>"
      ],
      "text/plain": [
       "  Ticker  Vol Adjusted Return_x  Index1  Vol Adjusted Return_y  Index2\n",
       "0    TPR               3.974857       0               0.872073      33\n",
       "1    HWM               2.641294       1               1.093332      11\n",
       "2   NFLX               2.601855       2               0.544475      91\n",
       "3   IBKR               2.582223       3               0.309452     152\n",
       "4    JBL               2.521692       4               0.804621      42"
      ]
     },
     "execution_count": 259,
     "metadata": {},
     "output_type": "execute_result"
    }
   ],
   "source": [
    "# Perform an inner join to include only matching tickers\n",
    "df = pd.merge(df1, df2, on='Ticker', how='inner')\n",
    "df.head()"
   ]
  },
  {
   "cell_type": "markdown",
   "id": "c5f7fb03-a244-4d26-a0b5-539446e632a2",
   "metadata": {},
   "source": [
    "### Calculate Average Rank"
   ]
  },
  {
   "cell_type": "code",
   "execution_count": 262,
   "id": "0e140a4d-2190-44c6-961f-cb0db8f56be3",
   "metadata": {},
   "outputs": [
    {
     "data": {
      "text/html": [
       "<div>\n",
       "<style scoped>\n",
       "    .dataframe tbody tr th:only-of-type {\n",
       "        vertical-align: middle;\n",
       "    }\n",
       "\n",
       "    .dataframe tbody tr th {\n",
       "        vertical-align: top;\n",
       "    }\n",
       "\n",
       "    .dataframe thead th {\n",
       "        text-align: right;\n",
       "    }\n",
       "</style>\n",
       "<table border=\"1\" class=\"dataframe\">\n",
       "  <thead>\n",
       "    <tr style=\"text-align: right;\">\n",
       "      <th></th>\n",
       "      <th>Ticker</th>\n",
       "      <th>Vol Adjusted Return_x</th>\n",
       "      <th>Index1</th>\n",
       "      <th>Vol Adjusted Return_y</th>\n",
       "      <th>Index2</th>\n",
       "      <th>average_rank</th>\n",
       "    </tr>\n",
       "  </thead>\n",
       "  <tbody>\n",
       "    <tr>\n",
       "      <th>0</th>\n",
       "      <td>TPR</td>\n",
       "      <td>3.974857</td>\n",
       "      <td>0</td>\n",
       "      <td>0.872073</td>\n",
       "      <td>33</td>\n",
       "      <td>33</td>\n",
       "    </tr>\n",
       "    <tr>\n",
       "      <th>1</th>\n",
       "      <td>HWM</td>\n",
       "      <td>2.641294</td>\n",
       "      <td>1</td>\n",
       "      <td>1.093332</td>\n",
       "      <td>11</td>\n",
       "      <td>12</td>\n",
       "    </tr>\n",
       "    <tr>\n",
       "      <th>2</th>\n",
       "      <td>NFLX</td>\n",
       "      <td>2.601855</td>\n",
       "      <td>2</td>\n",
       "      <td>0.544475</td>\n",
       "      <td>91</td>\n",
       "      <td>93</td>\n",
       "    </tr>\n",
       "    <tr>\n",
       "      <th>3</th>\n",
       "      <td>IBKR</td>\n",
       "      <td>2.582223</td>\n",
       "      <td>3</td>\n",
       "      <td>0.309452</td>\n",
       "      <td>152</td>\n",
       "      <td>155</td>\n",
       "    </tr>\n",
       "    <tr>\n",
       "      <th>4</th>\n",
       "      <td>JBL</td>\n",
       "      <td>2.521692</td>\n",
       "      <td>4</td>\n",
       "      <td>0.804621</td>\n",
       "      <td>42</td>\n",
       "      <td>46</td>\n",
       "    </tr>\n",
       "  </tbody>\n",
       "</table>\n",
       "</div>"
      ],
      "text/plain": [
       "  Ticker  Vol Adjusted Return_x  Index1  Vol Adjusted Return_y  Index2  \\\n",
       "0    TPR               3.974857       0               0.872073      33   \n",
       "1    HWM               2.641294       1               1.093332      11   \n",
       "2   NFLX               2.601855       2               0.544475      91   \n",
       "3   IBKR               2.582223       3               0.309452     152   \n",
       "4    JBL               2.521692       4               0.804621      42   \n",
       "\n",
       "   average_rank  \n",
       "0            33  \n",
       "1            12  \n",
       "2            93  \n",
       "3           155  \n",
       "4            46  "
      ]
     },
     "execution_count": 262,
     "metadata": {},
     "output_type": "execute_result"
    }
   ],
   "source": [
    "# calculate average rank\n",
    "\n",
    "df['average_rank'] = df['Index1'] + df['Index2'] # simply add the two ranks\n",
    "df.head()"
   ]
  },
  {
   "cell_type": "code",
   "execution_count": 264,
   "id": "4e90e1de-42e4-489c-9479-d4f17c49be88",
   "metadata": {},
   "outputs": [
    {
     "data": {
      "text/html": [
       "<div>\n",
       "<style scoped>\n",
       "    .dataframe tbody tr th:only-of-type {\n",
       "        vertical-align: middle;\n",
       "    }\n",
       "\n",
       "    .dataframe tbody tr th {\n",
       "        vertical-align: top;\n",
       "    }\n",
       "\n",
       "    .dataframe thead th {\n",
       "        text-align: right;\n",
       "    }\n",
       "</style>\n",
       "<table border=\"1\" class=\"dataframe\">\n",
       "  <thead>\n",
       "    <tr style=\"text-align: right;\">\n",
       "      <th></th>\n",
       "      <th>Ticker</th>\n",
       "      <th>Vol Adjusted Return_x</th>\n",
       "      <th>Index1</th>\n",
       "      <th>Vol Adjusted Return_y</th>\n",
       "      <th>Index2</th>\n",
       "      <th>average_rank</th>\n",
       "    </tr>\n",
       "  </thead>\n",
       "  <tbody>\n",
       "    <tr>\n",
       "      <th>1</th>\n",
       "      <td>HWM</td>\n",
       "      <td>2.641294</td>\n",
       "      <td>1</td>\n",
       "      <td>1.093332</td>\n",
       "      <td>11</td>\n",
       "      <td>12</td>\n",
       "    </tr>\n",
       "    <tr>\n",
       "      <th>12</th>\n",
       "      <td>CW</td>\n",
       "      <td>2.174156</td>\n",
       "      <td>12</td>\n",
       "      <td>1.298241</td>\n",
       "      <td>4</td>\n",
       "      <td>16</td>\n",
       "    </tr>\n",
       "    <tr>\n",
       "      <th>8</th>\n",
       "      <td>WWD</td>\n",
       "      <td>2.302805</td>\n",
       "      <td>8</td>\n",
       "      <td>1.092466</td>\n",
       "      <td>12</td>\n",
       "      <td>20</td>\n",
       "    </tr>\n",
       "    <tr>\n",
       "      <th>9</th>\n",
       "      <td>NFG</td>\n",
       "      <td>2.266835</td>\n",
       "      <td>9</td>\n",
       "      <td>1.055326</td>\n",
       "      <td>13</td>\n",
       "      <td>22</td>\n",
       "    </tr>\n",
       "    <tr>\n",
       "      <th>18</th>\n",
       "      <td>APH</td>\n",
       "      <td>1.901053</td>\n",
       "      <td>18</td>\n",
       "      <td>1.259281</td>\n",
       "      <td>5</td>\n",
       "      <td>23</td>\n",
       "    </tr>\n",
       "  </tbody>\n",
       "</table>\n",
       "</div>"
      ],
      "text/plain": [
       "   Ticker  Vol Adjusted Return_x  Index1  Vol Adjusted Return_y  Index2  \\\n",
       "1     HWM               2.641294       1               1.093332      11   \n",
       "12     CW               2.174156      12               1.298241       4   \n",
       "8     WWD               2.302805       8               1.092466      12   \n",
       "9     NFG               2.266835       9               1.055326      13   \n",
       "18    APH               1.901053      18               1.259281       5   \n",
       "\n",
       "    average_rank  \n",
       "1             12  \n",
       "12            16  \n",
       "8             20  \n",
       "9             22  \n",
       "18            23  "
      ]
     },
     "execution_count": 264,
     "metadata": {},
     "output_type": "execute_result"
    }
   ],
   "source": [
    "df = df.sort_values('average_rank', ascending=True)\n",
    "# Create a csv file with the results\n",
    "df.to_csv(\"Momentum Screen Results.csv\", index=False) # set index = to false, or else it'll create a column with index\n",
    "df.head()\n",
    "\n",
    "\n",
    "###############"
   ]
  },
  {
   "cell_type": "markdown",
   "id": "477c1f59",
   "metadata": {
    "jp-MarkdownHeadingCollapsed": true
   },
   "source": [
    "## Convexity of Returns"
   ]
  },
  {
   "cell_type": "code",
   "execution_count": 90,
   "id": "145390f6",
   "metadata": {},
   "outputs": [],
   "source": [
    "#only keep first 100 rows of the Momentum Screen Results \n",
    "df1 = df1.iloc[:100]"
   ]
  },
  {
   "cell_type": "code",
   "execution_count": 92,
   "id": "2d0e9d66",
   "metadata": {
    "scrolled": true
   },
   "outputs": [
    {
     "name": "stderr",
     "output_type": "stream",
     "text": [
      "[*********************100%***********************]  1 of 1 completed\n"
     ]
    },
    {
     "name": "stdout",
     "output_type": "stream",
     "text": [
      "Error retrieving data for FOX: 'Adj Close'\n"
     ]
    },
    {
     "name": "stderr",
     "output_type": "stream",
     "text": [
      "[*********************100%***********************]  1 of 1 completed\n"
     ]
    },
    {
     "name": "stdout",
     "output_type": "stream",
     "text": [
      "Error retrieving data for FOXA: 'Adj Close'\n"
     ]
    },
    {
     "name": "stderr",
     "output_type": "stream",
     "text": [
      "[*********************100%***********************]  1 of 1 completed\n",
      "[*********************100%***********************]  1 of 1 completed\n"
     ]
    },
    {
     "name": "stdout",
     "output_type": "stream",
     "text": [
      "Error retrieving data for WELL: 'Adj Close'\n",
      "Error retrieving data for NI: 'Adj Close'\n"
     ]
    },
    {
     "name": "stderr",
     "output_type": "stream",
     "text": [
      "[*********************100%***********************]  1 of 1 completed\n",
      "[*********************100%***********************]  1 of 1 completed\n"
     ]
    },
    {
     "name": "stdout",
     "output_type": "stream",
     "text": [
      "Error retrieving data for T: 'Adj Close'\n",
      "Error retrieving data for SFM: 'Adj Close'\n"
     ]
    },
    {
     "name": "stderr",
     "output_type": "stream",
     "text": [
      "[*********************100%***********************]  1 of 1 completed\n",
      "[*********************100%***********************]  1 of 1 completed"
     ]
    },
    {
     "name": "stdout",
     "output_type": "stream",
     "text": [
      "Error retrieving data for PM: 'Adj Close'\n"
     ]
    },
    {
     "name": "stderr",
     "output_type": "stream",
     "text": [
      "\n",
      "[*********************100%***********************]  1 of 1 completed"
     ]
    },
    {
     "name": "stdout",
     "output_type": "stream",
     "text": [
      "Error retrieving data for NFG: 'Adj Close'\n"
     ]
    },
    {
     "name": "stderr",
     "output_type": "stream",
     "text": [
      "\n"
     ]
    },
    {
     "name": "stdout",
     "output_type": "stream",
     "text": [
      "Error retrieving data for VTR: 'Adj Close'\n"
     ]
    },
    {
     "name": "stderr",
     "output_type": "stream",
     "text": [
      "[*********************100%***********************]  1 of 1 completed\n"
     ]
    },
    {
     "name": "stdout",
     "output_type": "stream",
     "text": [
      "Error retrieving data for TMUS: 'Adj Close'\n"
     ]
    },
    {
     "name": "stderr",
     "output_type": "stream",
     "text": [
      "[*********************100%***********************]  1 of 1 completed\n",
      "[*********************100%***********************]  1 of 1 completed"
     ]
    },
    {
     "name": "stdout",
     "output_type": "stream",
     "text": [
      "Error retrieving data for KMI: 'Adj Close'\n"
     ]
    },
    {
     "name": "stderr",
     "output_type": "stream",
     "text": [
      "\n",
      "[*********************100%***********************]  1 of 1 completed"
     ]
    },
    {
     "name": "stdout",
     "output_type": "stream",
     "text": [
      "Error retrieving data for DTM: 'Adj Close'\n"
     ]
    },
    {
     "name": "stderr",
     "output_type": "stream",
     "text": [
      "\n",
      "[*********************100%***********************]  1 of 1 completed\n"
     ]
    },
    {
     "name": "stdout",
     "output_type": "stream",
     "text": [
      "Error retrieving data for BK: 'Adj Close'\n",
      "Error retrieving data for WMB: 'Adj Close'\n"
     ]
    },
    {
     "name": "stderr",
     "output_type": "stream",
     "text": [
      "[*********************100%***********************]  1 of 1 completed\n",
      "[*********************100%***********************]  1 of 1 completed"
     ]
    },
    {
     "name": "stdout",
     "output_type": "stream",
     "text": [
      "Error retrieving data for ETR: 'Adj Close'\n"
     ]
    },
    {
     "name": "stderr",
     "output_type": "stream",
     "text": [
      "\n",
      "[*********************100%***********************]  1 of 1 completed\n"
     ]
    },
    {
     "name": "stdout",
     "output_type": "stream",
     "text": [
      "Error retrieving data for HWM: 'Adj Close'\n",
      "Error retrieving data for BSX: 'Adj Close'\n"
     ]
    },
    {
     "name": "stderr",
     "output_type": "stream",
     "text": [
      "[*********************100%***********************]  1 of 1 completed\n"
     ]
    },
    {
     "name": "stdout",
     "output_type": "stream",
     "text": [
      "Error retrieving data for UNM: 'Adj Close'\n"
     ]
    },
    {
     "name": "stderr",
     "output_type": "stream",
     "text": [
      "[*********************100%***********************]  1 of 1 completed\n"
     ]
    },
    {
     "name": "stdout",
     "output_type": "stream",
     "text": [
      "Error retrieving data for K: 'Adj Close'\n"
     ]
    },
    {
     "name": "stderr",
     "output_type": "stream",
     "text": [
      "[*********************100%***********************]  1 of 1 completed\n",
      "[*********************100%***********************]  1 of 1 completed\n"
     ]
    },
    {
     "name": "stdout",
     "output_type": "stream",
     "text": [
      "Error retrieving data for RTX: 'Adj Close'\n",
      "Error retrieving data for AEE: 'Adj Close'\n"
     ]
    },
    {
     "name": "stderr",
     "output_type": "stream",
     "text": [
      "[*********************100%***********************]  1 of 1 completed\n"
     ]
    },
    {
     "name": "stdout",
     "output_type": "stream",
     "text": [
      "Error retrieving data for MMM: 'Adj Close'\n"
     ]
    },
    {
     "name": "stderr",
     "output_type": "stream",
     "text": [
      "[*********************100%***********************]  1 of 1 completed\n"
     ]
    },
    {
     "name": "stdout",
     "output_type": "stream",
     "text": [
      "Error retrieving data for MO: 'Adj Close'\n"
     ]
    },
    {
     "name": "stderr",
     "output_type": "stream",
     "text": [
      "[*********************100%***********************]  1 of 1 completed\n",
      "[*********************100%***********************]  1 of 1 completed\n"
     ]
    },
    {
     "name": "stdout",
     "output_type": "stream",
     "text": [
      "Error retrieving data for EVRG: 'Adj Close'\n",
      "Error retrieving data for EXLS: 'Adj Close'\n"
     ]
    },
    {
     "name": "stderr",
     "output_type": "stream",
     "text": [
      "[*********************100%***********************]  1 of 1 completed\n"
     ]
    },
    {
     "name": "stdout",
     "output_type": "stream",
     "text": [
      "Error retrieving data for BRO: 'Adj Close'\n"
     ]
    },
    {
     "name": "stderr",
     "output_type": "stream",
     "text": [
      "[*********************100%***********************]  1 of 1 completed\n",
      "[*********************100%***********************]  1 of 1 completed\n"
     ]
    },
    {
     "name": "stdout",
     "output_type": "stream",
     "text": [
      "Error retrieving data for OGE: 'Adj Close'\n",
      "Error retrieving data for FI: 'Adj Close'\n"
     ]
    },
    {
     "name": "stderr",
     "output_type": "stream",
     "text": [
      "[*********************100%***********************]  1 of 1 completed\n",
      "[*********************100%***********************]  1 of 1 completed\n"
     ]
    },
    {
     "name": "stdout",
     "output_type": "stream",
     "text": [
      "Error retrieving data for ACIW: 'Adj Close'\n",
      "Error retrieving data for ORI: 'Adj Close'\n"
     ]
    },
    {
     "name": "stderr",
     "output_type": "stream",
     "text": [
      "[*********************100%***********************]  1 of 1 completed\n"
     ]
    },
    {
     "name": "stdout",
     "output_type": "stream",
     "text": [
      "Error retrieving data for XEL: 'Adj Close'\n"
     ]
    },
    {
     "name": "stderr",
     "output_type": "stream",
     "text": [
      "[*********************100%***********************]  1 of 1 completed\n",
      "[*********************100%***********************]  1 of 1 completed\n"
     ]
    },
    {
     "name": "stdout",
     "output_type": "stream",
     "text": [
      "Error retrieving data for WEC: 'Adj Close'\n",
      "Error retrieving data for PNW: 'Adj Close'\n"
     ]
    },
    {
     "name": "stderr",
     "output_type": "stream",
     "text": [
      "[*********************100%***********************]  1 of 1 completed\n",
      "[*********************100%***********************]  1 of 1 completed"
     ]
    },
    {
     "name": "stdout",
     "output_type": "stream",
     "text": [
      "Error retrieving data for ATO: 'Adj Close'\n"
     ]
    },
    {
     "name": "stderr",
     "output_type": "stream",
     "text": [
      "\n"
     ]
    },
    {
     "name": "stdout",
     "output_type": "stream",
     "text": [
      "Error retrieving data for CNO: 'Adj Close'\n"
     ]
    },
    {
     "name": "stderr",
     "output_type": "stream",
     "text": [
      "[*********************100%***********************]  1 of 1 completed\n",
      "[*********************100%***********************]  1 of 1 completed"
     ]
    },
    {
     "name": "stdout",
     "output_type": "stream",
     "text": [
      "Error retrieving data for PPL: 'Adj Close'\n"
     ]
    },
    {
     "name": "stderr",
     "output_type": "stream",
     "text": [
      "\n",
      "[*********************100%***********************]  1 of 1 completed\n"
     ]
    },
    {
     "name": "stdout",
     "output_type": "stream",
     "text": [
      "Error retrieving data for GILD: 'Adj Close'\n",
      "Error retrieving data for WMT: 'Adj Close'\n"
     ]
    },
    {
     "name": "stderr",
     "output_type": "stream",
     "text": [
      "[*********************100%***********************]  1 of 1 completed\n",
      "[*********************100%***********************]  1 of 1 completed\n"
     ]
    },
    {
     "name": "stdout",
     "output_type": "stream",
     "text": [
      "Error retrieving data for LNT: 'Adj Close'\n",
      "Error retrieving data for IBKR: 'Adj Close'\n"
     ]
    },
    {
     "name": "stderr",
     "output_type": "stream",
     "text": [
      "[*********************100%***********************]  1 of 1 completed\n",
      "[*********************100%***********************]  1 of 1 completed\n"
     ]
    },
    {
     "name": "stdout",
     "output_type": "stream",
     "text": [
      "Error retrieving data for CMS: 'Adj Close'\n",
      "Error retrieving data for G: 'Adj Close'\n"
     ]
    },
    {
     "name": "stderr",
     "output_type": "stream",
     "text": [
      "[*********************100%***********************]  1 of 1 completed\n",
      "[*********************100%***********************]  1 of 1 completed\n"
     ]
    },
    {
     "name": "stdout",
     "output_type": "stream",
     "text": [
      "Error retrieving data for SO: 'Adj Close'\n",
      "Error retrieving data for NFLX: 'Adj Close'\n"
     ]
    },
    {
     "name": "stderr",
     "output_type": "stream",
     "text": [
      "[*********************100%***********************]  1 of 1 completed\n",
      "[*********************100%***********************]  1 of 1 completed\n"
     ]
    },
    {
     "name": "stdout",
     "output_type": "stream",
     "text": [
      "Error retrieving data for IDA: 'Adj Close'\n",
      "Error retrieving data for ICE: 'Adj Close'\n"
     ]
    },
    {
     "name": "stderr",
     "output_type": "stream",
     "text": [
      "[*********************100%***********************]  1 of 1 completed\n"
     ]
    },
    {
     "name": "stdout",
     "output_type": "stream",
     "text": [
      "Error retrieving data for DUK: 'Adj Close'\n"
     ]
    },
    {
     "name": "stderr",
     "output_type": "stream",
     "text": [
      "[*********************100%***********************]  1 of 1 completed\n"
     ]
    },
    {
     "name": "stdout",
     "output_type": "stream",
     "text": [
      "Error retrieving data for GLW: 'Adj Close'\n"
     ]
    },
    {
     "name": "stderr",
     "output_type": "stream",
     "text": [
      "[*********************100%***********************]  1 of 1 completed\n",
      "[*********************100%***********************]  1 of 1 completed\n"
     ]
    },
    {
     "name": "stdout",
     "output_type": "stream",
     "text": [
      "Error retrieving data for AEP: 'Adj Close'\n",
      "Error retrieving data for EPR: 'Adj Close'\n"
     ]
    },
    {
     "name": "stderr",
     "output_type": "stream",
     "text": [
      "[*********************100%***********************]  1 of 1 completed\n",
      "[*********************100%***********************]  1 of 1 completed"
     ]
    },
    {
     "name": "stdout",
     "output_type": "stream",
     "text": [
      "Error retrieving data for IRT: 'Adj Close'\n"
     ]
    },
    {
     "name": "stderr",
     "output_type": "stream",
     "text": [
      "\n",
      "[*********************100%***********************]  1 of 1 completed\n"
     ]
    },
    {
     "name": "stdout",
     "output_type": "stream",
     "text": [
      "Error retrieving data for RCL: 'Adj Close'\n",
      "Error retrieving data for EXEL: 'Adj Close'\n"
     ]
    },
    {
     "name": "stderr",
     "output_type": "stream",
     "text": [
      "[*********************100%***********************]  1 of 1 completed\n"
     ]
    },
    {
     "name": "stdout",
     "output_type": "stream",
     "text": [
      "Error retrieving data for FICO: 'Adj Close'\n"
     ]
    },
    {
     "name": "stderr",
     "output_type": "stream",
     "text": [
      "[*********************100%***********************]  1 of 1 completed\n",
      "[*********************100%***********************]  1 of 1 completed"
     ]
    },
    {
     "name": "stdout",
     "output_type": "stream",
     "text": [
      "Error retrieving data for SR: 'Adj Close'\n"
     ]
    },
    {
     "name": "stderr",
     "output_type": "stream",
     "text": [
      "\n"
     ]
    },
    {
     "name": "stdout",
     "output_type": "stream",
     "text": [
      "Error retrieving data for RSG: 'Adj Close'\n"
     ]
    },
    {
     "name": "stderr",
     "output_type": "stream",
     "text": [
      "[*********************100%***********************]  1 of 1 completed\n",
      "[*********************100%***********************]  1 of 1 completed\n"
     ]
    },
    {
     "name": "stdout",
     "output_type": "stream",
     "text": [
      "Error retrieving data for CME: 'Adj Close'\n",
      "Error retrieving data for ALE: 'Adj Close'\n"
     ]
    },
    {
     "name": "stderr",
     "output_type": "stream",
     "text": [
      "[*********************100%***********************]  1 of 1 completed\n"
     ]
    },
    {
     "name": "stdout",
     "output_type": "stream",
     "text": [
      "Error retrieving data for SRCL: 'Adj Close'\n"
     ]
    },
    {
     "name": "stderr",
     "output_type": "stream",
     "text": [
      "[*********************100%***********************]  1 of 1 completed\n"
     ]
    },
    {
     "name": "stdout",
     "output_type": "stream",
     "text": [
      "Error retrieving data for COKE: 'Adj Close'\n"
     ]
    },
    {
     "name": "stderr",
     "output_type": "stream",
     "text": [
      "[*********************100%***********************]  1 of 1 completed\n",
      "[*********************100%***********************]  1 of 1 completed\n"
     ]
    },
    {
     "name": "stdout",
     "output_type": "stream",
     "text": [
      "Error retrieving data for PGR: 'Adj Close'\n",
      "Error retrieving data for TTWO: 'Adj Close'\n"
     ]
    },
    {
     "ename": "KeyboardInterrupt",
     "evalue": "",
     "output_type": "error",
     "traceback": [
      "\u001b[1;31m---------------------------------------------------------------------------\u001b[0m",
      "\u001b[1;31mKeyboardInterrupt\u001b[0m                         Traceback (most recent call last)",
      "Cell \u001b[1;32mIn[92], line 10\u001b[0m\n\u001b[0;32m      7\u001b[0m \u001b[38;5;28;01mfor\u001b[39;00m Ticker \u001b[38;5;129;01min\u001b[39;00m df1[\u001b[38;5;124m'\u001b[39m\u001b[38;5;124mTicker\u001b[39m\u001b[38;5;124m'\u001b[39m]:  \u001b[38;5;66;03m# Iterate over the 'Ticker' column\u001b[39;00m\n\u001b[0;32m      8\u001b[0m     \u001b[38;5;28;01mtry\u001b[39;00m:\n\u001b[0;32m      9\u001b[0m         \u001b[38;5;66;03m# Download 2 years of historical data\u001b[39;00m\n\u001b[1;32m---> 10\u001b[0m         data \u001b[38;5;241m=\u001b[39m yf\u001b[38;5;241m.\u001b[39mdownload(Ticker, period\u001b[38;5;241m=\u001b[39m\u001b[38;5;124m'\u001b[39m\u001b[38;5;124m2y\u001b[39m\u001b[38;5;124m'\u001b[39m)\n\u001b[0;32m     12\u001b[0m         \u001b[38;5;28;01mif\u001b[39;00m data\u001b[38;5;241m.\u001b[39mempty \u001b[38;5;129;01mor\u001b[39;00m \u001b[38;5;28mlen\u001b[39m(data) \u001b[38;5;241m<\u001b[39m \u001b[38;5;241m252\u001b[39m:  \u001b[38;5;66;03m# Check if data is insufficient\u001b[39;00m\n\u001b[0;32m     13\u001b[0m             \u001b[38;5;28;01mraise\u001b[39;00m \u001b[38;5;167;01mValueError\u001b[39;00m(\u001b[38;5;124mf\u001b[39m\u001b[38;5;124m\"\u001b[39m\u001b[38;5;124mInsufficient data for ticker: \u001b[39m\u001b[38;5;132;01m{\u001b[39;00mTicker\u001b[38;5;132;01m}\u001b[39;00m\u001b[38;5;124m\"\u001b[39m)\n",
      "File \u001b[1;32m~\\anaconda3\\Lib\\site-packages\\yfinance\\utils.py:104\u001b[0m, in \u001b[0;36mlog_indent_decorator.<locals>.wrapper\u001b[1;34m(*args, **kwargs)\u001b[0m\n\u001b[0;32m    101\u001b[0m logger\u001b[38;5;241m.\u001b[39mdebug(\u001b[38;5;124mf\u001b[39m\u001b[38;5;124m'\u001b[39m\u001b[38;5;124mEntering \u001b[39m\u001b[38;5;132;01m{\u001b[39;00mfunc\u001b[38;5;241m.\u001b[39m\u001b[38;5;18m__name__\u001b[39m\u001b[38;5;132;01m}\u001b[39;00m\u001b[38;5;124m()\u001b[39m\u001b[38;5;124m'\u001b[39m)\n\u001b[0;32m    103\u001b[0m \u001b[38;5;28;01mwith\u001b[39;00m IndentationContext():\n\u001b[1;32m--> 104\u001b[0m     result \u001b[38;5;241m=\u001b[39m func(\u001b[38;5;241m*\u001b[39margs, \u001b[38;5;241m*\u001b[39m\u001b[38;5;241m*\u001b[39mkwargs)\n\u001b[0;32m    106\u001b[0m logger\u001b[38;5;241m.\u001b[39mdebug(\u001b[38;5;124mf\u001b[39m\u001b[38;5;124m'\u001b[39m\u001b[38;5;124mExiting \u001b[39m\u001b[38;5;132;01m{\u001b[39;00mfunc\u001b[38;5;241m.\u001b[39m\u001b[38;5;18m__name__\u001b[39m\u001b[38;5;132;01m}\u001b[39;00m\u001b[38;5;124m()\u001b[39m\u001b[38;5;124m'\u001b[39m)\n\u001b[0;32m    107\u001b[0m \u001b[38;5;28;01mreturn\u001b[39;00m result\n",
      "File \u001b[1;32m~\\anaconda3\\Lib\\site-packages\\yfinance\\multi.py:162\u001b[0m, in \u001b[0;36mdownload\u001b[1;34m(tickers, start, end, actions, threads, ignore_tz, group_by, auto_adjust, back_adjust, repair, keepna, progress, period, interval, prepost, proxy, rounding, timeout, session, multi_level_index)\u001b[0m\n\u001b[0;32m    155\u001b[0m         _download_one_threaded(ticker, period\u001b[38;5;241m=\u001b[39mperiod, interval\u001b[38;5;241m=\u001b[39minterval,\n\u001b[0;32m    156\u001b[0m                                start\u001b[38;5;241m=\u001b[39mstart, end\u001b[38;5;241m=\u001b[39mend, prepost\u001b[38;5;241m=\u001b[39mprepost,\n\u001b[0;32m    157\u001b[0m                                actions\u001b[38;5;241m=\u001b[39mactions, auto_adjust\u001b[38;5;241m=\u001b[39mauto_adjust,\n\u001b[0;32m    158\u001b[0m                                back_adjust\u001b[38;5;241m=\u001b[39mback_adjust, repair\u001b[38;5;241m=\u001b[39mrepair, keepna\u001b[38;5;241m=\u001b[39mkeepna,\n\u001b[0;32m    159\u001b[0m                                progress\u001b[38;5;241m=\u001b[39m(progress \u001b[38;5;129;01mand\u001b[39;00m i \u001b[38;5;241m>\u001b[39m \u001b[38;5;241m0\u001b[39m), proxy\u001b[38;5;241m=\u001b[39mproxy,\n\u001b[0;32m    160\u001b[0m                                rounding\u001b[38;5;241m=\u001b[39mrounding, timeout\u001b[38;5;241m=\u001b[39mtimeout)\n\u001b[0;32m    161\u001b[0m     \u001b[38;5;28;01mwhile\u001b[39;00m \u001b[38;5;28mlen\u001b[39m(shared\u001b[38;5;241m.\u001b[39m_DFS) \u001b[38;5;241m<\u001b[39m \u001b[38;5;28mlen\u001b[39m(tickers):\n\u001b[1;32m--> 162\u001b[0m         _time\u001b[38;5;241m.\u001b[39msleep(\u001b[38;5;241m0.01\u001b[39m)\n\u001b[0;32m    163\u001b[0m \u001b[38;5;66;03m# download synchronously\u001b[39;00m\n\u001b[0;32m    164\u001b[0m \u001b[38;5;28;01melse\u001b[39;00m:\n\u001b[0;32m    165\u001b[0m     \u001b[38;5;28;01mfor\u001b[39;00m i, ticker \u001b[38;5;129;01min\u001b[39;00m \u001b[38;5;28menumerate\u001b[39m(tickers):\n",
      "\u001b[1;31mKeyboardInterrupt\u001b[0m: "
     ]
    }
   ],
   "source": [
    "# Collect rows in a list for concatenation\n",
    "rows_to_add_4 = []\n",
    "\n",
    "# Initialize a results DataFrame\n",
    "results_df = pd.DataFrame(columns=['Ticker', 'Convexity Ratio'])\n",
    "\n",
    "for Ticker in df1['Ticker']:  # Iterate over the 'Ticker' column\n",
    "    try:\n",
    "        # Download 2 years of historical data\n",
    "        data = yf.download(Ticker, period='2y')\n",
    "        \n",
    "        if data.empty or len(data) < 252:  # Check if data is insufficient\n",
    "            raise ValueError(f\"Insufficient data for ticker: {Ticker}\")\n",
    "        \n",
    "        # Create a DataFrame for returns\n",
    "        df = pd.DataFrame()\n",
    "        df['Return'] = data['Adj Close'].pct_change()\n",
    "\n",
    "        # Calculate the slope using a rolling window\n",
    "        window = 50  # Adjust window size as needed\n",
    "        df['Slope'] = df['Return'].rolling(window).apply(\n",
    "            lambda x: np.polyfit(np.arange(len(x)), x, 1)[0], raw=True\n",
    "        )\n",
    "\n",
    "        # Compute the second derivative of the slope\n",
    "        df['Second_Derivative'] = df['Slope'].diff()\n",
    "\n",
    "        # Calculate the convexity ratio\n",
    "        df['Convexity_Ratio'] = df['Second_Derivative'] / df['Slope']\n",
    "        \n",
    "        # Extract the most recent convexity ratio\n",
    "        convexity_ratio = df['Convexity_Ratio'].iloc[-1]\n",
    "        \n",
    "        # Add the result to the list\n",
    "        rows_to_add_4.append({'Ticker': Ticker, 'Convexity Ratio': convexity_ratio})\n",
    "    \n",
    "    except Exception as e:\n",
    "        print(f\"Error retrieving data for {Ticker}: {str(e)}\")\n",
    "        \n",
    "# Concatenate all rows into the DataFrame at once\n",
    "results_df = pd.concat([pd.DataFrame(rows_to_add_4)], ignore_index=True)"
   ]
  },
  {
   "cell_type": "code",
   "execution_count": 56,
   "id": "6f912e4d",
   "metadata": {},
   "outputs": [],
   "source": [
    "df2 = results_df.sort_values(by='Convexity Ratio', ascending=False)"
   ]
  },
  {
   "cell_type": "code",
   "execution_count": 79,
   "id": "bc140635",
   "metadata": {},
   "outputs": [
    {
     "data": {
      "text/html": [
       "<div>\n",
       "<style scoped>\n",
       "    .dataframe tbody tr th:only-of-type {\n",
       "        vertical-align: middle;\n",
       "    }\n",
       "\n",
       "    .dataframe tbody tr th {\n",
       "        vertical-align: top;\n",
       "    }\n",
       "\n",
       "    .dataframe thead th {\n",
       "        text-align: right;\n",
       "    }\n",
       "</style>\n",
       "<table border=\"1\" class=\"dataframe\">\n",
       "  <thead>\n",
       "    <tr style=\"text-align: right;\">\n",
       "      <th></th>\n",
       "      <th>Ticker</th>\n",
       "      <th>Convexity Ratio</th>\n",
       "    </tr>\n",
       "  </thead>\n",
       "  <tbody>\n",
       "    <tr>\n",
       "      <th>46</th>\n",
       "      <td>MRK</td>\n",
       "      <td>7.440757</td>\n",
       "    </tr>\n",
       "    <tr>\n",
       "      <th>48</th>\n",
       "      <td>INTC</td>\n",
       "      <td>3.696518</td>\n",
       "    </tr>\n",
       "    <tr>\n",
       "      <th>44</th>\n",
       "      <td>PEP</td>\n",
       "      <td>2.642901</td>\n",
       "    </tr>\n",
       "    <tr>\n",
       "      <th>24</th>\n",
       "      <td>TXN</td>\n",
       "      <td>1.623321</td>\n",
       "    </tr>\n",
       "    <tr>\n",
       "      <th>20</th>\n",
       "      <td>XOM</td>\n",
       "      <td>1.375793</td>\n",
       "    </tr>\n",
       "  </tbody>\n",
       "</table>\n",
       "</div>"
      ],
      "text/plain": [
       "   Ticker  Convexity Ratio\n",
       "46    MRK         7.440757\n",
       "48   INTC         3.696518\n",
       "44    PEP         2.642901\n",
       "24    TXN         1.623321\n",
       "20    XOM         1.375793"
      ]
     },
     "execution_count": 79,
     "metadata": {},
     "output_type": "execute_result"
    }
   ],
   "source": [
    "df2.head()"
   ]
  },
  {
   "cell_type": "code",
   "execution_count": 83,
   "id": "a3dc2896",
   "metadata": {},
   "outputs": [],
   "source": [
    "#Create a new csv file with our FIP results\n",
    "df2.to_csv('Convexity_Results.csv', index=False)"
   ]
  },
  {
   "cell_type": "markdown",
   "id": "987ca273",
   "metadata": {},
   "source": [
    "# Convexity Based on Quadratic Regression"
   ]
  },
  {
   "cell_type": "code",
   "execution_count": 60,
   "id": "4bc4d280",
   "metadata": {},
   "outputs": [],
   "source": [
    "df = df.iloc[:400]"
   ]
  },
  {
   "cell_type": "code",
   "execution_count": 62,
   "id": "526bb229-9c5f-44e3-91e0-58008e4595d3",
   "metadata": {},
   "outputs": [
    {
     "name": "stderr",
     "output_type": "stream",
     "text": [
      "[*********************100%***********************]  14 of 14 completed\n"
     ]
    }
   ],
   "source": [
    "rows_to_add_2 = []\n",
    "\n",
    "# Initialize an empty DataFrame to store results\n",
    "df_convexity = pd.DataFrame(columns=['Ticker', 'Convexity Score'])\n",
    "\n",
    "# Get tickers from df['Ticker'] list\n",
    "tickers = df['Ticker'].tolist()\n",
    "\n",
    "# Batch download 2 years of data for all tickers at once\n",
    "data = yf.download(tickers, period='2y', group_by='ticker', threads=True, auto_adjust=False)\n",
    "\n",
    "for ticker in tickers:\n",
    "    try:\n",
    "        # Retrieve individual ticker data from multi-ticker DataFrame\n",
    "        ticker_data = data[ticker].copy()\n",
    "\n",
    "        # Keep only last 252 rows... 252 trading days\n",
    "        ticker_data = ticker_data.tail(252)\n",
    "\n",
    "        # Ensure there is sufficient data\n",
    "        if ticker_data.empty or len(ticker_data) < 252:  \n",
    "            raise ValueError(f\"Insufficient data for ticker: {ticker}\")\n",
    "        \n",
    "        # Calculate daily returns (percentage change)\n",
    "        ticker_data['Return'] = ticker_data['Close'].pct_change() * 100\n",
    "\n",
    "        # Drop the first row since the return for the first day is NaN\n",
    "        ticker_data.dropna(inplace=True)\n",
    "        \n",
    "        # Create an ordinal time variable (index of the data)\n",
    "        ticker_data.loc[:, 'Time'] = np.arange(len(ticker_data))\n",
    "        \n",
    "        # Prepare the independent variables (Time and Time^2 for quadratic regression)\n",
    "        X = np.vstack([ticker_data['Time'], ticker_data['Time']**2]).T\n",
    "        y = ticker_data['Return'].values\n",
    "        \n",
    "        # Perform a quadratic regression\n",
    "        model = LinearRegression().fit(X, y)\n",
    "        \n",
    "        # The convexity is the coefficient of the squared time term\n",
    "        convexity = model.coef_[1]  # This is the coefficient of Time^2 (quadratic term)\n",
    "        \n",
    "        # Add the result to the list\n",
    "        rows_to_add_2.append({'Ticker': ticker, 'Convexity Score': convexity})\n",
    "    \n",
    "    except Exception as e:\n",
    "        print(f\"Error retrieving data for {ticker}: {str(e)}\")\n",
    "\n",
    "# Concatenate all rows into the DataFrame at once\n",
    "df_convexity = pd.concat([pd.DataFrame(rows_to_add_2)], ignore_index=True)\n"
   ]
  },
  {
   "cell_type": "code",
   "execution_count": 64,
   "id": "ee3501da",
   "metadata": {},
   "outputs": [],
   "source": [
    "df_convexity = df_convexity.sort_values('Convexity Score', ascending=False)"
   ]
  },
  {
   "cell_type": "code",
   "execution_count": 66,
   "id": "a046b594",
   "metadata": {},
   "outputs": [],
   "source": [
    "df_convexity.reset_index(drop=True, inplace=True)"
   ]
  },
  {
   "cell_type": "code",
   "execution_count": 68,
   "id": "afa294b0",
   "metadata": {},
   "outputs": [
    {
     "data": {
      "text/html": [
       "<div>\n",
       "<style scoped>\n",
       "    .dataframe tbody tr th:only-of-type {\n",
       "        vertical-align: middle;\n",
       "    }\n",
       "\n",
       "    .dataframe tbody tr th {\n",
       "        vertical-align: top;\n",
       "    }\n",
       "\n",
       "    .dataframe thead th {\n",
       "        text-align: right;\n",
       "    }\n",
       "</style>\n",
       "<table border=\"1\" class=\"dataframe\">\n",
       "  <thead>\n",
       "    <tr style=\"text-align: right;\">\n",
       "      <th></th>\n",
       "      <th>Ticker</th>\n",
       "      <th>Convexity Score</th>\n",
       "    </tr>\n",
       "  </thead>\n",
       "  <tbody>\n",
       "    <tr>\n",
       "      <th>0</th>\n",
       "      <td>OKE</td>\n",
       "      <td>0.000020</td>\n",
       "    </tr>\n",
       "    <tr>\n",
       "      <th>1</th>\n",
       "      <td>NI</td>\n",
       "      <td>0.000013</td>\n",
       "    </tr>\n",
       "    <tr>\n",
       "      <th>2</th>\n",
       "      <td>TATT</td>\n",
       "      <td>0.000007</td>\n",
       "    </tr>\n",
       "    <tr>\n",
       "      <th>3</th>\n",
       "      <td>TPR</td>\n",
       "      <td>0.000007</td>\n",
       "    </tr>\n",
       "    <tr>\n",
       "      <th>4</th>\n",
       "      <td>CLBT</td>\n",
       "      <td>0.000006</td>\n",
       "    </tr>\n",
       "  </tbody>\n",
       "</table>\n",
       "</div>"
      ],
      "text/plain": [
       "  Ticker  Convexity Score\n",
       "0    OKE         0.000020\n",
       "1     NI         0.000013\n",
       "2   TATT         0.000007\n",
       "3    TPR         0.000007\n",
       "4   CLBT         0.000006"
      ]
     },
     "execution_count": 68,
     "metadata": {},
     "output_type": "execute_result"
    }
   ],
   "source": [
    "df_convexity.head()"
   ]
  },
  {
   "cell_type": "code",
   "execution_count": 70,
   "id": "79469461",
   "metadata": {},
   "outputs": [],
   "source": [
    "df_convexity.to_csv(\"Convexity_Score_Quadratic_Method.csv\")\n",
    "\n",
    "\n",
    "###"
   ]
  },
  {
   "cell_type": "markdown",
   "id": "e5b20760",
   "metadata": {},
   "source": [
    "# Momentum Quality - FIP (Frog in the Pan Score)\n",
    "\n",
    "ID or FIP Score\n",
    "ID = sign x [% Negative - % Positive]"
   ]
  },
  {
   "cell_type": "code",
   "execution_count": 266,
   "id": "71088c84",
   "metadata": {},
   "outputs": [],
   "source": [
    "# Only keep first 400 rows of the Momentum Screen Results\n",
    "df = df.iloc[:400]"
   ]
  },
  {
   "cell_type": "code",
   "execution_count": 268,
   "id": "6a2dcab2",
   "metadata": {},
   "outputs": [],
   "source": [
    "# Create a blank dataframe with the appropriate columns\n",
    "df_FIP = pd.DataFrame(columns=['Ticker', 'FIP_Score'])"
   ]
  },
  {
   "cell_type": "code",
   "execution_count": 270,
   "id": "7f286388-ab39-4f3e-bc84-23d6ca56c298",
   "metadata": {},
   "outputs": [
    {
     "name": "stderr",
     "output_type": "stream",
     "text": [
      "[*********************100%***********************]  394 of 394 completed\n"
     ]
    }
   ],
   "source": [
    "rows_to_add_3 = []\n",
    "\n",
    "# Get list of tickers from df\n",
    "tickers = df['Ticker'].tolist()\n",
    "\n",
    "# Batch download 2 years of data for all tickers at once\n",
    "data = yf.download(tickers, period='2y', group_by='ticker', threads=True, auto_adjust=False)\n",
    "\n",
    "for Ticker in tickers:  # Iterate over the 'ticker' column in df\n",
    "    try:\n",
    "        # Retrieve individual ticker data from multi-ticker DataFrame\n",
    "        ticker_data = data[Ticker].copy()\n",
    "        ticker_data = ticker_data.tail(252)  # Use only last 252 rows... for 252 trading days\n",
    "\n",
    "        if ticker_data.empty or len(ticker_data) < 252:  # Check if data is insufficient\n",
    "            raise ValueError(f\"Insufficient data for ticker: {Ticker}\")\n",
    "        \n",
    "        ticker_data['Percent Return'] = (ticker_data['Close'].pct_change()) * 100\n",
    "\n",
    "        if ticker_data['Percent Return'].cumsum().iat[-1] > 0:\n",
    "            sign = 1\n",
    "        elif ticker_data['Percent Return'].cumsum().iat[-1] < 0:\n",
    "            sign = -1\n",
    "        else:\n",
    "            sign = 0\n",
    "\n",
    "        positive_days = (ticker_data['Percent Return'] > 0).sum()\n",
    "        negative_days = (ticker_data['Percent Return'] < 0).sum()\n",
    "        flat_days = (ticker_data['Percent Return'] == 0).sum()\n",
    "        pct_positive = round(positive_days / len(ticker_data), 4)\n",
    "        pct_negative = round(negative_days / len(ticker_data), 4)\n",
    "        FIP_Score = round(sign * (pct_negative - pct_positive), 4)\n",
    "\n",
    "        # Add the result to the list\n",
    "        rows_to_add_3.append({'Ticker': Ticker, 'FIP Score': FIP_Score})\n",
    "\n",
    "    except Exception as e:\n",
    "        print(f\"Error retrieving data for {Ticker}: {str(e)}\")\n",
    "\n",
    "df_FIP = pd.concat([pd.DataFrame(rows_to_add_3)], ignore_index=True)\n"
   ]
  },
  {
   "cell_type": "code",
   "execution_count": 272,
   "id": "3a7352bc",
   "metadata": {},
   "outputs": [],
   "source": [
    "df_FIP = df_FIP.sort_values('FIP Score', ascending=True) # ascending = True since the best scores are negative"
   ]
  },
  {
   "cell_type": "code",
   "execution_count": 274,
   "id": "fc681a37",
   "metadata": {},
   "outputs": [],
   "source": [
    "df_FIP.reset_index(drop=True, inplace=True)"
   ]
  },
  {
   "cell_type": "code",
   "execution_count": 276,
   "id": "5a2bc2ae",
   "metadata": {},
   "outputs": [
    {
     "data": {
      "text/html": [
       "<div>\n",
       "<style scoped>\n",
       "    .dataframe tbody tr th:only-of-type {\n",
       "        vertical-align: middle;\n",
       "    }\n",
       "\n",
       "    .dataframe tbody tr th {\n",
       "        vertical-align: top;\n",
       "    }\n",
       "\n",
       "    .dataframe thead th {\n",
       "        text-align: right;\n",
       "    }\n",
       "</style>\n",
       "<table border=\"1\" class=\"dataframe\">\n",
       "  <thead>\n",
       "    <tr style=\"text-align: right;\">\n",
       "      <th></th>\n",
       "      <th>Ticker</th>\n",
       "      <th>FIP Score</th>\n",
       "    </tr>\n",
       "  </thead>\n",
       "  <tbody>\n",
       "    <tr>\n",
       "      <th>0</th>\n",
       "      <td>DTE</td>\n",
       "      <td>-0.2381</td>\n",
       "    </tr>\n",
       "    <tr>\n",
       "      <th>1</th>\n",
       "      <td>CW</td>\n",
       "      <td>-0.2143</td>\n",
       "    </tr>\n",
       "    <tr>\n",
       "      <th>2</th>\n",
       "      <td>NDAQ</td>\n",
       "      <td>-0.2143</td>\n",
       "    </tr>\n",
       "    <tr>\n",
       "      <th>3</th>\n",
       "      <td>GL</td>\n",
       "      <td>-0.2024</td>\n",
       "    </tr>\n",
       "    <tr>\n",
       "      <th>4</th>\n",
       "      <td>CME</td>\n",
       "      <td>-0.2024</td>\n",
       "    </tr>\n",
       "  </tbody>\n",
       "</table>\n",
       "</div>"
      ],
      "text/plain": [
       "  Ticker  FIP Score\n",
       "0    DTE    -0.2381\n",
       "1     CW    -0.2143\n",
       "2   NDAQ    -0.2143\n",
       "3     GL    -0.2024\n",
       "4    CME    -0.2024"
      ]
     },
     "execution_count": 276,
     "metadata": {},
     "output_type": "execute_result"
    }
   ],
   "source": [
    "df_FIP.head()"
   ]
  },
  {
   "cell_type": "code",
   "execution_count": 278,
   "id": "aa493619",
   "metadata": {},
   "outputs": [],
   "source": [
    "# Create a new csv file with our FIP results\n",
    "df_FIP.to_csv('Momentum_FIP_Results.csv', index=False)\n",
    "\n",
    "\n",
    "###"
   ]
  },
  {
   "cell_type": "markdown",
   "id": "d0ce12bc",
   "metadata": {},
   "source": [
    "# Combine Dataframes and Rank Tickers"
   ]
  },
  {
   "cell_type": "code",
   "execution_count": 280,
   "id": "9f6a30e7",
   "metadata": {},
   "outputs": [],
   "source": [
    "#Create column of index #\n",
    "df['index_vol_rank'] = df.index #vol adjusted returns df\n",
    "\n",
    "#Create column of index #\n",
    "df_FIP['index_fip_rank'] = df_FIP.index # FIP df\n",
    "\n",
    "# create column of index # \n",
    "#df_convexity['Index3'] = df_convexity.index"
   ]
  },
  {
   "cell_type": "code",
   "execution_count": 282,
   "id": "079f383a",
   "metadata": {},
   "outputs": [],
   "source": [
    "# Perform an inner join to include only matching tickers\n",
    "merged = pd.merge(df_FIP, df, on='Ticker', how='inner')"
   ]
  },
  {
   "cell_type": "code",
   "execution_count": 284,
   "id": "c62a1d17-c25c-4648-97bd-7370000da08a",
   "metadata": {},
   "outputs": [
    {
     "data": {
      "text/html": [
       "<div>\n",
       "<style scoped>\n",
       "    .dataframe tbody tr th:only-of-type {\n",
       "        vertical-align: middle;\n",
       "    }\n",
       "\n",
       "    .dataframe tbody tr th {\n",
       "        vertical-align: top;\n",
       "    }\n",
       "\n",
       "    .dataframe thead th {\n",
       "        text-align: right;\n",
       "    }\n",
       "</style>\n",
       "<table border=\"1\" class=\"dataframe\">\n",
       "  <thead>\n",
       "    <tr style=\"text-align: right;\">\n",
       "      <th></th>\n",
       "      <th>Ticker</th>\n",
       "      <th>FIP Score</th>\n",
       "      <th>index_fip_rank</th>\n",
       "      <th>Vol Adjusted Return_x</th>\n",
       "      <th>Index1</th>\n",
       "      <th>Vol Adjusted Return_y</th>\n",
       "      <th>Index2</th>\n",
       "      <th>average_rank</th>\n",
       "      <th>index_vol_rank</th>\n",
       "    </tr>\n",
       "  </thead>\n",
       "  <tbody>\n",
       "    <tr>\n",
       "      <th>0</th>\n",
       "      <td>DTE</td>\n",
       "      <td>-0.2381</td>\n",
       "      <td>0</td>\n",
       "      <td>0.815923</td>\n",
       "      <td>140</td>\n",
       "      <td>0.844911</td>\n",
       "      <td>35</td>\n",
       "      <td>175</td>\n",
       "      <td>140</td>\n",
       "    </tr>\n",
       "    <tr>\n",
       "      <th>1</th>\n",
       "      <td>CW</td>\n",
       "      <td>-0.2143</td>\n",
       "      <td>1</td>\n",
       "      <td>2.174156</td>\n",
       "      <td>12</td>\n",
       "      <td>1.298241</td>\n",
       "      <td>4</td>\n",
       "      <td>16</td>\n",
       "      <td>12</td>\n",
       "    </tr>\n",
       "    <tr>\n",
       "      <th>2</th>\n",
       "      <td>NDAQ</td>\n",
       "      <td>-0.2143</td>\n",
       "      <td>2</td>\n",
       "      <td>1.609173</td>\n",
       "      <td>43</td>\n",
       "      <td>0.555771</td>\n",
       "      <td>89</td>\n",
       "      <td>132</td>\n",
       "      <td>43</td>\n",
       "    </tr>\n",
       "    <tr>\n",
       "      <th>3</th>\n",
       "      <td>GL</td>\n",
       "      <td>-0.2024</td>\n",
       "      <td>3</td>\n",
       "      <td>1.630861</td>\n",
       "      <td>42</td>\n",
       "      <td>0.382556</td>\n",
       "      <td>132</td>\n",
       "      <td>174</td>\n",
       "      <td>42</td>\n",
       "    </tr>\n",
       "    <tr>\n",
       "      <th>4</th>\n",
       "      <td>CME</td>\n",
       "      <td>-0.2024</td>\n",
       "      <td>4</td>\n",
       "      <td>2.321029</td>\n",
       "      <td>7</td>\n",
       "      <td>0.953891</td>\n",
       "      <td>24</td>\n",
       "      <td>31</td>\n",
       "      <td>7</td>\n",
       "    </tr>\n",
       "  </tbody>\n",
       "</table>\n",
       "</div>"
      ],
      "text/plain": [
       "  Ticker  FIP Score  index_fip_rank  Vol Adjusted Return_x  Index1  \\\n",
       "0    DTE    -0.2381               0               0.815923     140   \n",
       "1     CW    -0.2143               1               2.174156      12   \n",
       "2   NDAQ    -0.2143               2               1.609173      43   \n",
       "3     GL    -0.2024               3               1.630861      42   \n",
       "4    CME    -0.2024               4               2.321029       7   \n",
       "\n",
       "   Vol Adjusted Return_y  Index2  average_rank  index_vol_rank  \n",
       "0               0.844911      35           175             140  \n",
       "1               1.298241       4            16              12  \n",
       "2               0.555771      89           132              43  \n",
       "3               0.382556     132           174              42  \n",
       "4               0.953891      24            31               7  "
      ]
     },
     "execution_count": 284,
     "metadata": {},
     "output_type": "execute_result"
    }
   ],
   "source": [
    "merged.head()"
   ]
  },
  {
   "cell_type": "markdown",
   "id": "84790d2f",
   "metadata": {},
   "source": [
    "### Next cell is only necessary if adding a third filter to the ranking:"
   ]
  },
  {
   "cell_type": "code",
   "execution_count": 286,
   "id": "aa2f61cf",
   "metadata": {},
   "outputs": [],
   "source": [
    "# Merge the result with the third DataFrame\n",
    "merged = pd.merge(merged, df_convexity, on='Ticker', how='inner')"
   ]
  },
  {
   "cell_type": "code",
   "execution_count": 288,
   "id": "9453cb8d",
   "metadata": {},
   "outputs": [
    {
     "data": {
      "text/html": [
       "<div>\n",
       "<style scoped>\n",
       "    .dataframe tbody tr th:only-of-type {\n",
       "        vertical-align: middle;\n",
       "    }\n",
       "\n",
       "    .dataframe tbody tr th {\n",
       "        vertical-align: top;\n",
       "    }\n",
       "\n",
       "    .dataframe thead th {\n",
       "        text-align: right;\n",
       "    }\n",
       "</style>\n",
       "<table border=\"1\" class=\"dataframe\">\n",
       "  <thead>\n",
       "    <tr style=\"text-align: right;\">\n",
       "      <th></th>\n",
       "      <th>Ticker</th>\n",
       "      <th>FIP Score</th>\n",
       "      <th>index_fip_rank</th>\n",
       "      <th>Vol Adjusted Return_x</th>\n",
       "      <th>Index1</th>\n",
       "      <th>Vol Adjusted Return_y</th>\n",
       "      <th>Index2</th>\n",
       "      <th>average_rank</th>\n",
       "      <th>index_vol_rank</th>\n",
       "    </tr>\n",
       "  </thead>\n",
       "  <tbody>\n",
       "    <tr>\n",
       "      <th>0</th>\n",
       "      <td>DTE</td>\n",
       "      <td>-0.2381</td>\n",
       "      <td>0</td>\n",
       "      <td>0.815923</td>\n",
       "      <td>140</td>\n",
       "      <td>0.844911</td>\n",
       "      <td>35</td>\n",
       "      <td>175</td>\n",
       "      <td>140</td>\n",
       "    </tr>\n",
       "    <tr>\n",
       "      <th>1</th>\n",
       "      <td>CW</td>\n",
       "      <td>-0.2143</td>\n",
       "      <td>1</td>\n",
       "      <td>2.174156</td>\n",
       "      <td>12</td>\n",
       "      <td>1.298241</td>\n",
       "      <td>4</td>\n",
       "      <td>16</td>\n",
       "      <td>12</td>\n",
       "    </tr>\n",
       "    <tr>\n",
       "      <th>2</th>\n",
       "      <td>NDAQ</td>\n",
       "      <td>-0.2143</td>\n",
       "      <td>2</td>\n",
       "      <td>1.609173</td>\n",
       "      <td>43</td>\n",
       "      <td>0.555771</td>\n",
       "      <td>89</td>\n",
       "      <td>132</td>\n",
       "      <td>43</td>\n",
       "    </tr>\n",
       "    <tr>\n",
       "      <th>3</th>\n",
       "      <td>GL</td>\n",
       "      <td>-0.2024</td>\n",
       "      <td>3</td>\n",
       "      <td>1.630861</td>\n",
       "      <td>42</td>\n",
       "      <td>0.382556</td>\n",
       "      <td>132</td>\n",
       "      <td>174</td>\n",
       "      <td>42</td>\n",
       "    </tr>\n",
       "    <tr>\n",
       "      <th>4</th>\n",
       "      <td>CME</td>\n",
       "      <td>-0.2024</td>\n",
       "      <td>4</td>\n",
       "      <td>2.321029</td>\n",
       "      <td>7</td>\n",
       "      <td>0.953891</td>\n",
       "      <td>24</td>\n",
       "      <td>31</td>\n",
       "      <td>7</td>\n",
       "    </tr>\n",
       "  </tbody>\n",
       "</table>\n",
       "</div>"
      ],
      "text/plain": [
       "  Ticker  FIP Score  index_fip_rank  Vol Adjusted Return_x  Index1  \\\n",
       "0    DTE    -0.2381               0               0.815923     140   \n",
       "1     CW    -0.2143               1               2.174156      12   \n",
       "2   NDAQ    -0.2143               2               1.609173      43   \n",
       "3     GL    -0.2024               3               1.630861      42   \n",
       "4    CME    -0.2024               4               2.321029       7   \n",
       "\n",
       "   Vol Adjusted Return_y  Index2  average_rank  index_vol_rank  \n",
       "0               0.844911      35           175             140  \n",
       "1               1.298241       4            16              12  \n",
       "2               0.555771      89           132              43  \n",
       "3               0.382556     132           174              42  \n",
       "4               0.953891      24            31               7  "
      ]
     },
     "execution_count": 288,
     "metadata": {},
     "output_type": "execute_result"
    }
   ],
   "source": [
    "merged.head()"
   ]
  },
  {
   "cell_type": "code",
   "execution_count": 290,
   "id": "bcd615b5",
   "metadata": {},
   "outputs": [],
   "source": [
    "# Calculate the score (sum of indices)\n",
    "\n",
    "#merged['Score'] = merged['index_vol_rank'] + merged['index_fip_rank'] + merged['Index3']\n",
    "merged['Score'] = merged['index_vol_rank'] + merged['index_fip_rank']\n",
    "\n",
    "# Sort the result by the score\n",
    "sorted_df = merged.sort_values('Score', ascending=True)\n",
    "# Select relevant columns for the output\n",
    "result = sorted_df[['Ticker', 'Score']]"
   ]
  },
  {
   "cell_type": "code",
   "execution_count": 292,
   "id": "aa269535",
   "metadata": {},
   "outputs": [
    {
     "data": {
      "text/html": [
       "<div>\n",
       "<style scoped>\n",
       "    .dataframe tbody tr th:only-of-type {\n",
       "        vertical-align: middle;\n",
       "    }\n",
       "\n",
       "    .dataframe tbody tr th {\n",
       "        vertical-align: top;\n",
       "    }\n",
       "\n",
       "    .dataframe thead th {\n",
       "        text-align: right;\n",
       "    }\n",
       "</style>\n",
       "<table border=\"1\" class=\"dataframe\">\n",
       "  <thead>\n",
       "    <tr style=\"text-align: right;\">\n",
       "      <th></th>\n",
       "      <th>Ticker</th>\n",
       "      <th>Score</th>\n",
       "    </tr>\n",
       "  </thead>\n",
       "  <tbody>\n",
       "    <tr>\n",
       "      <th>4</th>\n",
       "      <td>CME</td>\n",
       "      <td>11</td>\n",
       "    </tr>\n",
       "    <tr>\n",
       "      <th>9</th>\n",
       "      <td>IBKR</td>\n",
       "      <td>12</td>\n",
       "    </tr>\n",
       "    <tr>\n",
       "      <th>1</th>\n",
       "      <td>CW</td>\n",
       "      <td>13</td>\n",
       "    </tr>\n",
       "    <tr>\n",
       "      <th>15</th>\n",
       "      <td>HWM</td>\n",
       "      <td>16</td>\n",
       "    </tr>\n",
       "    <tr>\n",
       "      <th>12</th>\n",
       "      <td>CAH</td>\n",
       "      <td>17</td>\n",
       "    </tr>\n",
       "  </tbody>\n",
       "</table>\n",
       "</div>"
      ],
      "text/plain": [
       "   Ticker  Score\n",
       "4     CME     11\n",
       "9    IBKR     12\n",
       "1      CW     13\n",
       "15    HWM     16\n",
       "12    CAH     17"
      ]
     },
     "execution_count": 292,
     "metadata": {},
     "output_type": "execute_result"
    }
   ],
   "source": [
    "result.head()"
   ]
  },
  {
   "cell_type": "code",
   "execution_count": 294,
   "id": "70045d32",
   "metadata": {},
   "outputs": [],
   "source": [
    "result.to_csv(\"Momentum_Ranked.csv\",index=False)\n",
    "\n",
    "\n",
    "\n",
    "\n",
    "\n",
    "\n",
    "#####"
   ]
  },
  {
   "cell_type": "code",
   "execution_count": null,
   "id": "f8b808e3-0e43-438a-8843-45394d146b50",
   "metadata": {},
   "outputs": [],
   "source": []
  }
 ],
 "metadata": {
  "kernelspec": {
   "display_name": "Python [conda env:base] *",
   "language": "python",
   "name": "conda-base-py"
  },
  "language_info": {
   "codemirror_mode": {
    "name": "ipython",
    "version": 3
   },
   "file_extension": ".py",
   "mimetype": "text/x-python",
   "name": "python",
   "nbconvert_exporter": "python",
   "pygments_lexer": "ipython3",
   "version": "3.12.7"
  }
 },
 "nbformat": 4,
 "nbformat_minor": 5
}
